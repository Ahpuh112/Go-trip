{
 "cells": [
  {
   "cell_type": "code",
   "execution_count": 1,
   "id": "fb428efb",
   "metadata": {},
   "outputs": [],
   "source": [
    "from selenium import webdriver"
   ]
  },
  {
   "cell_type": "code",
   "execution_count": 2,
   "id": "99568ac2",
   "metadata": {},
   "outputs": [],
   "source": [
    "from selenium.webdriver.common.keys import Keys"
   ]
  },
  {
   "cell_type": "code",
   "execution_count": 3,
   "id": "73358f8d",
   "metadata": {},
   "outputs": [],
   "source": [
    "from selenium.webdriver.common.by import By"
   ]
  },
  {
   "cell_type": "code",
   "execution_count": 4,
   "id": "bc40d1d2",
   "metadata": {},
   "outputs": [],
   "source": [
    "import urllib.request"
   ]
  },
  {
   "cell_type": "code",
   "execution_count": 5,
   "id": "2b95f985",
   "metadata": {},
   "outputs": [],
   "source": [
    "import time"
   ]
  },
  {
   "cell_type": "code",
   "execution_count": 6,
   "id": "738c9b5a",
   "metadata": {},
   "outputs": [],
   "source": [
    "import csv"
   ]
  },
  {
   "cell_type": "code",
   "execution_count": 7,
   "id": "b7754b6e",
   "metadata": {},
   "outputs": [],
   "source": [
    "import os"
   ]
  },
  {
   "cell_type": "code",
   "execution_count": 8,
   "id": "ffe055ce",
   "metadata": {},
   "outputs": [],
   "source": [
    "import pandas as pd"
   ]
  },
  {
   "cell_type": "code",
   "execution_count": 9,
   "id": "789916d7",
   "metadata": {},
   "outputs": [],
   "source": [
    "area = '광주'\n",
    "url = f'https://trip.place.naver.com/list?query={area}%20가볼만한곳&level=top'\n",
    "driver = webdriver.Chrome()\n",
    "driver.get(url)\n",
    "areaList=['광주', \n",
    "          '목포', '여수', '순천', '나주', '광양', '담양', '곡성', '구례', '고흥', '보성', '화순', '장흥', '강진', '해남', '영암', '무안', '함평', '영광', '장성', '완도', '진도', '신안',\n",
    "          '전주', '군산', '익산', '정읍', '남원', '김제', '완주', '진안', '무주', '장수', '임실', '순창', '고창', '부안']"
   ]
  },
  {
   "cell_type": "code",
   "execution_count": 26,
   "id": "c9abdc86",
   "metadata": {},
   "outputs": [],
   "source": [
    "if not os.path.isdir(area):\n",
    "    os.makedirs(area)"
   ]
  },
  {
   "cell_type": "code",
   "execution_count": 46,
   "id": "ec96e274",
   "metadata": {},
   "outputs": [
    {
     "ename": "KeyboardInterrupt",
     "evalue": "",
     "output_type": "error",
     "traceback": [
      "\u001b[1;31m---------------------------------------------------------------------------\u001b[0m",
      "\u001b[1;31mKeyboardInterrupt\u001b[0m                         Traceback (most recent call last)",
      "Input \u001b[1;32mIn [46]\u001b[0m, in \u001b[0;36m<cell line: 1>\u001b[1;34m()\u001b[0m\n\u001b[0;32m      1\u001b[0m \u001b[38;5;28;01mfor\u001b[39;00m c \u001b[38;5;129;01min\u001b[39;00m \u001b[38;5;28mrange\u001b[39m(\u001b[38;5;241m0\u001b[39m,\u001b[38;5;241m300\u001b[39m):\n\u001b[0;32m      2\u001b[0m     driver\u001b[38;5;241m.\u001b[39mfind_element(By\u001b[38;5;241m.\u001b[39mTAG_NAME, \u001b[38;5;124m'\u001b[39m\u001b[38;5;124mbody\u001b[39m\u001b[38;5;124m'\u001b[39m)\u001b[38;5;241m.\u001b[39msend_keys(Keys\u001b[38;5;241m.\u001b[39mPAGE_DOWN)\n\u001b[1;32m----> 3\u001b[0m     \u001b[43mtime\u001b[49m\u001b[38;5;241;43m.\u001b[39;49m\u001b[43msleep\u001b[49m\u001b[43m(\u001b[49m\u001b[38;5;241;43m0.5\u001b[39;49m\u001b[43m)\u001b[49m\n",
      "\u001b[1;31mKeyboardInterrupt\u001b[0m: "
     ]
    }
   ],
   "source": [
    "for c in range(0,200):\n",
    "    driver.find_element(By.TAG_NAME, 'body').send_keys(Keys.PAGE_DOWN)\n",
    "    time.sleep(0.5)"
   ]
  },
  {
   "cell_type": "code",
   "execution_count": 13,
   "id": "523d21e9",
   "metadata": {
    "scrolled": true
   },
   "outputs": [
    {
     "ename": "KeyboardInterrupt",
     "evalue": "",
     "output_type": "error",
     "traceback": [
      "\u001b[1;31m---------------------------------------------------------------------------\u001b[0m",
      "\u001b[1;31mKeyboardInterrupt\u001b[0m                         Traceback (most recent call last)",
      "Input \u001b[1;32mIn [13]\u001b[0m, in \u001b[0;36m<cell line: 3>\u001b[1;34m()\u001b[0m\n\u001b[0;32m     50\u001b[0m     i\u001b[38;5;241m+\u001b[39m\u001b[38;5;241m=\u001b[39m\u001b[38;5;241m1\u001b[39m\n\u001b[0;32m     51\u001b[0m     j\u001b[38;5;241m=\u001b[39m\u001b[38;5;241m1\u001b[39m\n\u001b[1;32m---> 52\u001b[0m \u001b[43mtime\u001b[49m\u001b[38;5;241;43m.\u001b[39;49m\u001b[43msleep\u001b[49m\u001b[43m(\u001b[49m\u001b[38;5;241;43m0.5\u001b[39;49m\u001b[43m)\u001b[49m\n",
      "\u001b[1;31mKeyboardInterrupt\u001b[0m: "
     ]
    }
   ],
   "source": [
    "areaList=[\n",
    "          '강진']\n",
    "for area in areaList :\n",
    "        if not os.path.isdir(area):\n",
    "            os.makedirs(area)\n",
    "        url = f'https://trip.place.naver.com/list?query={area}%20가볼만한곳&level=top'\n",
    "        driver.get(url)\n",
    "        time.sleep(4)\n",
    "        driver.find_element(By.CSS_SELECTOR, '.ekDJh').click()\n",
    "        time.sleep(3)\n",
    "        \n",
    "        for c in range(0,150):\n",
    "            driver.find_element(By.TAG_NAME, 'body').send_keys(Keys.PAGE_DOWN)\n",
    "            time.sleep(0.5)\n",
    "\n",
    "        placeList = []\n",
    "        linkList = []\n",
    "        imgList = []\n",
    "        areaList = []\n",
    "        i = 0\n",
    "        j = 1\n",
    "        count = 1\n",
    "\n",
    "        places = driver.find_elements(By.CSS_SELECTOR, 'span.xBZDS')\n",
    "        links = driver.find_elements(By.CSS_SELECTOR, 'li > div > a')\n",
    "        imgs = driver.find_elements(By.CSS_SELECTOR, 'div.K0PDV')\n",
    "\n",
    "        for place in places :\n",
    "            placeList.append(place.text)\n",
    "            areaList.append(area)\n",
    "        for link in links :\n",
    "            linkList.append(link.get_attribute('href'))\n",
    "        for img in imgs :\n",
    "            try :\n",
    "                imgUrl = img.get_attribute('style').split('background-image: url(\"')[1][:-3]\n",
    "                urllib.request.urlretrieve(imgUrl, area + \"/\" + str(i+1)+\".\"+placeList[i] +\"_\"+ str(j) + \".jpg\")\n",
    "                area_dic = {\n",
    "                        '지역':areaList,\n",
    "                        '장소':placeList,\n",
    "                        '링크':linkList\n",
    "                        }\n",
    "\n",
    "                area_pd = pd.DataFrame(area_dic)\n",
    "\n",
    "                area_pd.to_csv(f\"{area}.csv\")\n",
    "            except :\n",
    "                pass\n",
    "            \n",
    "            j+=1\n",
    "            if j>=6 :\n",
    "                i+=1\n",
    "                j=1\n",
    "            time.sleep(0.5)\n",
    "                \n",
    "            \n",
    "\n",
    "\n",
    "\n"
   ]
  },
  {
   "cell_type": "code",
   "execution_count": 95,
   "id": "7199fcca",
   "metadata": {},
   "outputs": [
    {
     "name": "stdout",
     "output_type": "stream",
     "text": [
      "https://search.pstatic.net/common/?autoRotate=true&type=h320_sharpen&src=http%3A%2F%2Fblogfiles.naver.net%2FMjAyMjA4MTlfMjk0%2FMDAxNjYwODk0MDQ5Mzgw.8ygWCGuDtIJbEJnXKKdnKFyEpjq2Vx2pkWCUBOoWwIQg.NKNuE5RyAhWxtDTAOaAsWaJJ0EbyXvpLvu_XhDCtY9kg.JPEG.greenjeonnam%2FKakaoTalk_20220818_220301587_13.jpg%231440x809\n",
      "https://search.pstatic.net/common/?autoRotate=true&type=h320_sharpen&src=http%3A%2F%2Fblogfiles.naver.net%2FMjAyMjA4MDlfMjE2%2FMDAxNjYwMDU2OTY5MjY4.DlrhHAUoQ7KD4MtITa3xYvlyfxi2QADZd6v0Uilb7Iwg.xMOBHhuiBlTymD9hO7lHiyzlXRwBHpmbGLs5vWiQhiUg.JPEG.runtob%2F20220809_152743.jpg%233000x2250\n",
      "https://search.pstatic.net/common/?autoRotate=true&type=h320_sharpen&src=http%3A%2F%2Fblogfiles.naver.net%2FMjAyMjA3MTVfODcg%2FMDAxNjU3ODc1Mjc3OTUy.HFhNecK-tdof28hBq1eoFdZVQR-_buB1Bf-t0qAyDMkg.EGSP_k2Ver4DQrdaU76vtX38V68xziNElY7aPiFLAyIg.PNG.namdokorea%2F_%25B3%25B2%25B5%25B5%25BE%25EE%25B5%25F0%25B0%25A1.png%231000x1000\n",
      "https://search.pstatic.net/common/?autoRotate=true&type=h320_sharpen&src=http%3A%2F%2Fblogfiles.naver.net%2FMjAyMjA4MTRfMTA4%2FMDAxNjYwNDgzMDE4MDQ2.sKonDB8N6IVjRhJlGbYd2wiaMIEo0IjT7CcKJDS1HtAg.jUQ9IQGRGiZdYAS4JiqfIlDIpZrZYOmnwndXLOCyLqkg.JPEG.my342434%2FKakaoTalk_20220814_221437926_11.jpg%231080x1440\n",
      "https://search.pstatic.net/common/?autoRotate=true&type=h320_sharpen&src=http%3A%2F%2Fblogfiles.naver.net%2FMjAyMjA3MTdfMjM0%2FMDAxNjU4MDI2NTkyMjA1.8vP8koYLYpQlaTcvCF9Bo-y0CtNllTR7_WUtah967Hwg.LsQjQ3o-YmDSi3dWedOEjAYH0fwP2Axb2uIr2iWRatwg.JPEG.no1dlthwls%2F20220717104411.jpg%23550x550\n",
      "https://search.pstatic.net/common/?autoRotate=true&type=h320_sharpen&src=http%3A%2F%2Fblogfiles.naver.net%2FMjAyMjA0MDRfMTk5%2FMDAxNjQ5MDY5MjkzMTQ3.snUfLKhCkH72tVmF3WIFg90O0A2tJVa83pLX9neQbkYg.LBhUjXY_oKOdOUYu1XGbf7gatflN0x3jiRENlVI_Wrwg.JPEG.ycru%2FDSC04376.jpg%236000x4000\n",
      "https://search.pstatic.net/common/?autoRotate=true&type=h320_sharpen&src=http%3A%2F%2Fblogfiles.naver.net%2FMjAyMjA0MDRfNzcg%2FMDAxNjQ5MDc3ODIyMjYz.3MI-Fp3H-3Klq6G-kgnad1cmIMKlZF-bWiIYZnFetS4g.vMgkfJZrEKxSMHWOds5BjIunf3959P3SzQU6K3YXQZ8g.PNG.sangsrunchin%2F%25BD%25E6%25B3%25D7%25C0%25CF.png%23800x800\n",
      "https://search.pstatic.net/common/?autoRotate=true&type=h320_sharpen&src=http%3A%2F%2Fblogfiles.naver.net%2FMjAyMjA0MDdfMTkz%2FMDAxNjQ5MzA0MjM2OTQx.NQ_NCJcUWiRCsQ1E_3tRsUW0ftmidrYMVpXk78W627Mg.HjgEM33LFI5G6En7UHe4BoVnaI3YgNqNSWmg0MNwDcsg.JPEG.sun880307%2FIMG_3977.JPG%23900x900\n",
      "https://search.pstatic.net/common/?autoRotate=true&type=h320_sharpen&src=http%3A%2F%2Fblogfiles.naver.net%2FMjAyMjA0MDRfMjAy%2FMDAxNjQ5MDYxNTUzMjQ1.xDLAUO4T0ys2dVNKkNk0n-gsc142CIzU4btLuI7bj00g.fx_D_ePBqAubdb4bnwqf98-Hoz_SjWNU3bcQ0_xv_tMg.JPEG.namdokorea%2F%25BD%25E6%25B3%25D7%25C0%25CF.jpg%231000x1000\n",
      "https://search.pstatic.net/common/?autoRotate=true&type=h320_sharpen&src=http%3A%2F%2Fblogfiles.naver.net%2FMjAyMjA0MDVfMjQg%2FMDAxNjQ5MTQyOTQ5Njkw.LIFALH_UbzIXuHo72nXAnlbcQylb_bvh4wZObwA8YvEg.sydOJvKncMKDymYWyCqLBJWt5jX8Z0yksjCrHgEuQ6kg.JPEG.whcrow11%2FIMG%25A3%25DF20220403%25A3%25DF114817.jpg%23900x675\n",
      "https://search.pstatic.net/common/?autoRotate=true&type=h320_sharpen&src=http%3A%2F%2Fblogfiles.naver.net%2FMjAyMjA4MTBfMTE1%2FMDAxNjYwMTMwNTU4Mjg1.XB_77d9Dhj4GckDIIS3AeuGn6JxRdzFXKTPMGRwze1Qg.jQB7D3SXytIcPZWkY39BGQcPlNXNS2-Ow6NXnJuHfbwg.JPEG.jmpark77%2F20220807_074939.jpg%234032x3024\n",
      "https://search.pstatic.net/common/?autoRotate=true&type=h320_sharpen&src=http%3A%2F%2Fblogfiles.naver.net%2FMjAyMjA3MDVfMTQz%2FMDAxNjU3MDA2NzMxMzM0.AtNwFOYvL7dMjzmpHsAAtOQVjIVrX5O0dmX19YZjmxAg.jPj7nqpOGED26WkDIuivULM08AZEycHboOhP_N565jsg.JPEG.chita000%2FIMG_6950.jpg%231200x900\n",
      "https://search.pstatic.net/common/?autoRotate=true&type=h320_sharpen&src=http%3A%2F%2Fblogfiles.naver.net%2FMjAyMjA1MTRfMTIx%2FMDAxNjUyNTM4NDkzOTAw.o9UtLpfhZJwC_VZSrlZ8yX7nAt4WH-ay1rgHG4ZgDWYg.eh6OEx_3pNvQBUJzlhQeYW9l4CqO2jhZf9HqJX0IR-Yg.JPEG.shyran0104%2F20220507_065421.jpg%233851x2888\n",
      "https://search.pstatic.net/common/?autoRotate=true&type=h320_sharpen&src=http%3A%2F%2Fblogfiles.naver.net%2FMjAyMjA2MTBfMTEz%2FMDAxNjU0ODQwNjc5NDM0.noSW76lyhqAONIx425Zq8cHmRBMixsLCVqOmoaAtKZwg.1GuuAlR78E70AHCYhxie8878NMPsg9bFBWuPA69XEfwg.JPEG.mine337%2FIMG_3447.JPG%23900x1200\n",
      "https://search.pstatic.net/common/?autoRotate=true&type=h320_sharpen&src=http%3A%2F%2Fblogfiles.naver.net%2FMjAyMjA4MjJfODYg%2FMDAxNjYxMTYwODIxNDYx.6wFR0padh7I5FqvpdW-sSKQPqMYRcbAMHDtprL-35HEg.oOQx7a1zfbHK6FRZVvqueBT2BMcbcqPZhaRCM8k7Ibog.JPEG.teda_%2F20220608%25A3%25DF142400.jpg%23900x675\n",
      "https://search.pstatic.net/common/?autoRotate=true&type=h320_sharpen&src=http%3A%2F%2Fblogfiles.naver.net%2FMjAyMTA3MjNfMTg3%2FMDAxNjI3MDE1NTM2Nzg0.Kst1WJuhd_50g3WSBulZvn98d6Y6_OIyB4ppNa7hu6Mg.uL8v5x9sdCgvRqu0YQV8nAMEazSgnyOo6d6dZtdRfHIg.JPEG.greenjeonnam%2F1.jpg%23900x675\n",
      "https://search.pstatic.net/common/?autoRotate=true&type=h320_sharpen&src=http%3A%2F%2Fblogfiles.naver.net%2FMjAyMTEyMjBfMTU0%2FMDAxNjM5OTgxOTE0NTQ0.eOofRjyULC3vJ91wsXAoDgeLtvflDkeIhl_weM1qmccg.z__6DcXzFN4SvbAyCep6J2WLYr0Qf-TXsPGrdD7lI_8g.JPEG.rose0626%2FPhoto_6619522_DJI_386_jpg_9283130_0_20211213165312_photo_original.jpg.jpg%235472x3648\n",
      "https://search.pstatic.net/common/?autoRotate=true&type=h320_sharpen&src=http%3A%2F%2Fblogfiles.naver.net%2FMjAxOTA3MjNfOTEg%2FMDAxNTYzODcxNDY2MzA5.GBB3oXYNKsmiXLGpfumdVKRVBGiDmyFsZOxTcJ4c4Kwg.rfqQBXsjZZ7dpsdSP4sIMOTPDVFB7j3dxYYRBMV9CM8g.JPEG.greenjeonnam%2F3.jpg%231872x950\n",
      "https://search.pstatic.net/common/?autoRotate=true&type=h320_sharpen&src=http%3A%2F%2Fblogfiles.naver.net%2FMjAyMTAzMjFfODIg%2FMDAxNjE2Mjg4ODQwNjU5.D5th7_y8kfvHCBQgeivixGSKEmOO_wALeGpdePVWRMUg.CxIgrKJD3sakaJBhs8mYbzAAcXF0N_x3dXYyfWAxEa8g.JPEG.bowoon0421%2F20210321_095656.jpg%231455x2739\n",
      "https://search.pstatic.net/common/?autoRotate=true&type=h320_sharpen&src=http%3A%2F%2Fblogfiles.naver.net%2FMjAyMjA0MDhfMzQg%2FMDAxNjQ5NDIxNTY2Mzkz.DTAv-0i8WVO4c4VIJ1urmoSyfVFM5ql7rraCUxNOGugg.zmjkp4LPYMl_RmJ-DvrJ7NmyFMqfqc1u04L0LBNo2bog.JPEG.spa7981%2F1649410540838-0.jpg%231280x960\n",
      "https://search.pstatic.net/common/?autoRotate=true&type=h320_sharpen&src=http%3A%2F%2Fblogfiles.naver.net%2FMjAyMjA4MjJfNDAg%2FMDAxNjYxMTY5Mzk2NTM0.A3g04HvGwz_MZ-_765_JNL_jy87mozvYzTFs1W1tTxog.PdFgqKWnukL8Z1_yvaJAQpv-Ma9R9GVShh9DQrsVr6Yg.JPEG.yu_esthetic%2F%25BF%25B5%25BE%25CF%25C5%25E4%25B4%25E3%25B0%25F1%25BC%25AD%25C1%25D6%25BA%25CE%25C0%25B0%25BE%25C6%25B6%25F3%25C0%25CC%25C7%25C12.jpg%23800x800\n",
      "https://search.pstatic.net/common/?autoRotate=true&type=h320_sharpen&src=http%3A%2F%2Fblogfiles.naver.net%2FMjAyMjA3MjJfMjk0%2FMDAxNjU4NDE2NzMxMDgx.f1wUCM7qkx7IFnD0y75tj-uKJuVoiCmS4o4By4xPSIUg.7qmxG31FEcl3EHs5yOZvtUb5H01_BsOS9_ZSuteYSzQg.JPEG.suna5454%2F20220720%25A3%25DF172019.jpg%23900x900\n",
      "https://search.pstatic.net/common/?autoRotate=true&type=h320_sharpen&src=http%3A%2F%2Fblogfiles.naver.net%2FMjAyMjA4MTlfMjQy%2FMDAxNjYwODk3NDA5NTQ3.cO9XXJiAz6pIZ3BWAzDi-rbo_MPEtAS75uKMUm4abW8g.hZIZXDLqLviFz9SN7bAi71I_jA0mvxP2xrXD0zodcQMg.JPEG.gkdisdldjfwk%2FPicsart%25A3%25DF22%25A3%25AD08%25A3%25AD19%25A3%25DF17%25A3%25AD19%25A3%25AD24%25A3%25AD234.jpg%23900x900\n",
      "https://search.pstatic.net/common/?autoRotate=true&type=h320_sharpen&src=http%3A%2F%2Fblogfiles.naver.net%2FMjAyMjA4MDhfNzkg%2FMDAxNjU5OTYzMDY2OTg4.vUm1Mr4qvwjJv_gFUMTI0EZohPBRTckgtwK9y_oYPfsg.yefYk90LqPoEMC1sPMIGBw0xWYMIQSrsIUxoY9PgHT8g.JPEG.outofgear%2FIMG_3186.jpg%232250x3000\n",
      "https://search.pstatic.net/common/?autoRotate=true&type=h320_sharpen&src=http%3A%2F%2Fblogfiles.naver.net%2FMjAyMjA4MjFfMjMw%2FMDAxNjYxMDkzODUxOTM1.eLvBQcjvC5KKvXeaM5PN4dLKhdGP4YxPNPyFi7S9Ed8g.aEKz7E98je1ie7bOj8L-1tLA1CdDgHrnOmNZDtxzlAog.JPEG.alclzh1212%2FIMG_2875.jpg%23900x1200\n",
      "https://search.pstatic.net/common/?autoRotate=true&type=h320_sharpen&src=http%3A%2F%2Fblogfiles.naver.net%2FMjAyMjA3MTdfMzQg%2FMDAxNjU4MDU2MjAwMjc5.LotxnDNUMzH_h-YDij7Z3-6ExCwXQjRbPvxlpgftFOcg.yLm6-ZX5Va4mUY0IDUQmQAAgWvdfewWdh9pO8_bcQvUg.JPEG.no1dlthwls%2F20220717200754.jpg%23550x550\n",
      "https://search.pstatic.net/common/?autoRotate=true&type=h320_sharpen&src=http%3A%2F%2Fblogfiles.naver.net%2FMjAyMjA3MDNfMTkw%2FMDAxNjU2ODQ1MTQ0ODc5.M8ewOtruMyHp8CL9i9om_aXKv3r6uxVDmonn7WQTiGkg.iahU9KrVJKFLnVwewMktod1wgC50nQeMDaAzvq5kEwog.PNG.sangsrunchin%2F%25BD%25E6%25B3%25D7%25C0%25CF.png%23800x800\n",
      "https://search.pstatic.net/common/?autoRotate=true&type=h320_sharpen&src=http%3A%2F%2Fblogfiles.naver.net%2FMjAyMjA4MjJfNTMg%2FMDAxNjYxMTc2MjAxODA3.OryMst5xVP7z0-9DG2tBNMF2mwo3rnhaUl_swFUY2Jwg.RzFjLf8mkN7VCcbslTzgXB2R3E7z45vNKkA6cxSwj2Qg.JPEG.mitto79%2FKakaoTalk_20220819_132105227_12.jpg%231440x1080\n",
      "https://search.pstatic.net/common/?autoRotate=true&type=h320_sharpen&src=http%3A%2F%2Fblogfiles.naver.net%2FMjAyMjA0MThfMjIg%2FMDAxNjUwMjUwMTIxMTMw.xFc1D2t0Db1gY-th8GwkQpaWAA0jbpAwhBYsYD4UiEog.t6He3LjQtlkNKtyPxsVscOTVATKH7nsZ8ONSI6gLCEcg.JPEG.euntori619%2FIMG_4072.JPG%23900x1200\n",
      "https://search.pstatic.net/common/?autoRotate=true&type=h320_sharpen&src=http%3A%2F%2Fblogfiles.naver.net%2FMjAyMjA4MThfMTk2%2FMDAxNjYwODMxNDUyMTI2.cRXBlzHmFF_zsEd18aafexZkXXtN5wjoXXY-o9uCuj4g.jxAtu8mZZ7JgCD9rD2uBIDQ1sNfeCUdjDRyQviai9Vwg.JPEG.14wing%2FKakaoTalk_20220816_102841608_08.jpg%231440x1081\n",
      "https://search.pstatic.net/common/?autoRotate=true&type=h320_sharpen&src=http%3A%2F%2Fblogfiles.naver.net%2FMjAyMjA3MjVfMjM4%2FMDAxNjU4NzE4MTAxNjc4.6aDjmDvSjvOWqcL-bXRP3h3HP6kJQcWstl2vp8XsqiEg.TPSmBLDFbbgOo20JpLTs3aS1pV2ryJa0WsCigFlO3Zgg.JPEG.kidkiddy%2F20220723%25A3%25DF170825.jpg%23900x1927\n",
      "https://search.pstatic.net/common/?autoRotate=true&type=h320_sharpen&src=http%3A%2F%2Fblogfiles.naver.net%2FMjAyMjA1MzFfMjg0%2FMDAxNjUzOTg2NTUyNDc2.dchlRYSHFjVYPsome7uJCM5OVtcnWY1OuOkZoIN3T7sg.2vhONflaw90vBUCM_2TtWXwLJhOxwvAQFGQqbIylEBkg.JPEG.huma0011%2F1.jpg%23800x600\n",
      "https://search.pstatic.net/common/?autoRotate=true&type=h320_sharpen&src=http%3A%2F%2Fblogfiles.naver.net%2FMjAyMjA0MDZfMTg0%2FMDAxNjQ5MjM1ODI4NzQz.SWuHC50IlgRDTPHOyPOfFfSB3DgjQ85ijlj5eFm5X2kg.LCwVLkw1nKG-_PIrhcriDjoVvgANXEeoJ_MHaqbOoAwg.JPEG.cknrjh%2F20220406%25A3%25DF174422.jpg%23900x1200\n",
      "https://search.pstatic.net/common/?autoRotate=true&type=h320_sharpen&src=http%3A%2F%2Fblogfiles.naver.net%2FMjAyMjAzMTZfNTAg%2FMDAxNjQ3NDI1MTY0Mjkw.5gF8-ucmCRuLdzD1P9fMuDvFSUScc_B62rEwSpc1Sx4g.GjD5MA5Dpb8awXY6H2gHC_wcnkJa6iG9uyiO_46wBJEg.JPEG.jvj24601%2F%253F%25A0%2584%253F%2582%25A8_%253F%2582%25A8%253F%258F%2584%253F%258B%25B5%253F%2582%25AC.220313_%2528291%2529.jpg%231333x600\n",
      "https://search.pstatic.net/common/?autoRotate=true&type=h320_sharpen&src=http%3A%2F%2Fblogfiles.naver.net%2FMjAyMTEyMThfMTcx%2FMDAxNjM5NzgzODU2NjM4.VAEQjB4kj7C0awjq6KWszdLJkPV1sL9PB5mwjQtvlRwg.-WIgvt08Emq_0BZWRNW17dnIwit_S0dNPNk6OF11Bw4g.JPEG.rose0626%2FIMG_7231.JPG%231200x900\n",
      "https://search.pstatic.net/common/?autoRotate=true&type=h320_sharpen&src=http%3A%2F%2Fblogfiles.naver.net%2FMjAyMjA2MjBfNiAg%2FMDAxNjU1NzMzMDcyNzY0.2lJvrcruuOrfP0xqa-bc7X-m5wXUzhbWWBhJaC8CZeIg.vn9KYvEobC5Vx6gSfBzo8tdIAV3sosln63sZhSpRIegg.JPEG.vivaplus%2F1655716820954%25A3%25AD6.jpg%23900x1200\n",
      "https://search.pstatic.net/common/?autoRotate=true&type=h320_sharpen&src=http%3A%2F%2Fblogfiles.naver.net%2FMjAyMjA1MTFfODAg%2FMDAxNjUyMjUxNTY1NDQ3.GoIZW_OtMhVPv4omFApECaFxascAgT7uBNpZlUqyso4g.uT-nzMaDID5wo-NJbbpNLHjzUJpPk1MUy7k4MnpZxlcg.JPEG.godlygreen%2FIMG_2211.jpg%23900x1200\n"
     ]
    },
    {
     "name": "stdout",
     "output_type": "stream",
     "text": [
      "https://search.pstatic.net/common/?autoRotate=true&type=h320_sharpen&src=http%3A%2F%2Fblogfiles.naver.net%2FMjAyMjA3MDVfMjg2%2FMDAxNjU3MDE0MzI4MjIx.wg9J-wJmwEXj6pvlkzGxVaETujT3xQcegPBlJ9BKoAMg.v_oqT1etYx_fpdpf8kws94gvIIQmuSGoTQzDE21JC08g.JPEG.vivaplus%2F1657013624992.jpg%23900x675\n",
      "https://search.pstatic.net/common/?autoRotate=true&type=h320_sharpen&src=http%3A%2F%2Fblogfiles.naver.net%2FMjAyMTA2MjlfMTI1%2FMDAxNjI0OTQ1NDM4OTA1.t4DduXoARkn74ZOhsobNzK_nvatqeI-4mDR8U8vrWyMg.xM4TSD8P7dpIOm5U7aexNYlj7-29g6z7xk_cjz5mtcMg.JPEG.greenjeonnam%2F2.jpg%231000x590\n",
      "https://search.pstatic.net/common/?autoRotate=true&type=h320_sharpen&src=http%3A%2F%2Fblogfiles.naver.net%2FMjAyMjAxMDJfMjIg%2FMDAxNjQxMDgwMzYwNzU1.alBDtfX_8itkIeLt77g40qYlxK8k9K7ZpKasypvIYtIg.VdcYrg69OVLPMLYBzIbSfLkDn20RUKNFRXgF6Nj9xIQg.JPEG.rose0626%2F%25BB%25F3%25B4%25EB%25C6%25F7%25BF%25AA%25BB%25E7%25B0%25F8%25BF%25F8-001_%25281%2529.jpg%231280x720\n",
      "https://search.pstatic.net/common/?autoRotate=true&type=h320_sharpen&src=http%3A%2F%2Fblogfiles.naver.net%2FMjAyMjAxMDlfNDYg%2FMDAxNjQxNzA5NDMxMzQy.dsqmHMK976lWbdp0OjNEL2CYxuqKw6mR4Zk8LQk85zYg.K9210WmOfx82xzB0ZNHUkl6nBTXwibn9XvTQUCJycScg.JPEG.zeropop0%2FIMG_1296.JPG%236960x4640\n",
      "https://search.pstatic.net/common/?autoRotate=true&type=h320_sharpen&src=http%3A%2F%2Fblogfiles.naver.net%2FMjAyMTA2MDhfMTcz%2FMDAxNjIzMTE1NDA2ODg1.hJBL4guzTR5w_bo-LpnDdrMqsVzd487PahrFL35sBL4g.5cBHXHSWIfNiAhOZ32NvHQvFywRcQABP767J6jqJL9Eg.JPEG.greenjeonnam%2F%25C0%25E5%25C5%25CD.jpg%234000x2252\n",
      "https://search.pstatic.net/common/?autoRotate=true&type=h320_sharpen&src=http%3A%2F%2Fblogfiles.naver.net%2FMjAyMTA0MTlfMjE2%2FMDAxNjE4NzYyMDQ2MzU4.P1i-zWw6cJw7JJ2hpnUI-OSVdMZJfzoU6_HZCJECS7Ig.LKhXDqFUAJwT1Y0aRgMgZPxDZ7ACAzBM6Q8HZNkBco8g.JPEG.zeropop0%2FIMG_1383.JPG%236960x4640\n",
      "https://search.pstatic.net/common/?autoRotate=true&type=h320_sharpen&src=http%3A%2F%2Fblogfiles.naver.net%2FMjAyMjA3MjBfNzYg%2FMDAxNjU4MjY4MjUzMzA4.OBXqPGjzeyppbb1kOKD-zIu364MmsG1fW9q8tB6BOF8g.5UpB0I_hLThPcYmIc6ojZdtk5Ar-DAITSqHbi9mSLWAg.JPEG.yosup2%2FIMG_0960.JPG%23900x506\n",
      "https://search.pstatic.net/common/?autoRotate=true&type=h320_sharpen&src=http%3A%2F%2Fblogfiles.naver.net%2FMjAyMDAxMzBfMjY0%2FMDAxNTgwMzUyNDkyOTcw.AfaFVGQs8UMrJNOfSycCsJwVXsjKPhVH0xP80RTdg8Ag.59tV4wDriy7X2X6gEA9XagO4B4SlpEgEm4o72fK6tn4g.JPEG.gr22nade%2F%25BB%25E7%25C1%25F820.jpg%234032x2268\n",
      "https://search.pstatic.net/common/?autoRotate=true&type=h320_sharpen&src=http%3A%2F%2Fblogfiles.naver.net%2FMjAyMjAxMTVfMjY1%2FMDAxNjQyMjI4ODA2MjM3.i-qDLRE822GO9s_woBT9hA_ta2G62uVBxdU0LzBzJMgg.4xWJMketYBTgvUcdvC-6fLLCkFiRvpglVN3AyTHH-Ugg.JPEG.dalgomyi%2F%25C0%25FC%25B3%25B2_%25BF%25A9%25C7%25E0_-20220109_192644.jpg%231331x863\n",
      "https://search.pstatic.net/common/?autoRotate=true&type=h320_sharpen&src=http%3A%2F%2Fblogfiles.naver.net%2FMjAyMTEyMjBfMTI4%2FMDAxNjM5OTc2MDQ5ODMw.1w5rpo7DYcJI-H72-6tG3hAbq2z-6rUmPnacAXrDfjkg.8MW06bD3pxmEPpR6diC-jMAw_5hBdoevqIrr3rBR05wg.JPEG.rose0626%2FIMG_7426.JPG%234032x3024\n",
      "https://search.pstatic.net/common/?autoRotate=true&type=h320_sharpen&src=http%3A%2F%2Fblogfiles.naver.net%2FMjAyMDA4MjBfMTY5%2FMDAxNTk3ODgzNDUyOTY3.V9kij7sFplfLUYQrsMp9imWKLFFkTgafpsDRz6iDQe8g.A9A6au1SIs0FOJsjfFBxGLvR1H46HEH6XzKi6rzseRcg.JPEG.youloveyoo%2FIMG_3231.JPG%23900x674\n",
      "https://search.pstatic.net/common/?autoRotate=true&type=h320_sharpen&src=http%3A%2F%2Fblogfiles.naver.net%2FMjAyMjAxMjJfMTQx%2FMDAxNjQyNzg2MTU4MTY1.AWCTTxOYolZ-XXt3WPtH7Cl64OdzvS2pbdWldvK9Xwsg.0Y5C9arW1rcsSrFLTOYdtI-901_ZvH4ccGoc15VzsQ8g.JPEG.gr8agnes%2F22%25A3%25AD01%25A3%25AD22%25A3%25AD02%25A3%25AD28%25A3%25AD57%25A3%25AD358%25A3%25DFdeco.jpg%23900x900\n",
      "https://search.pstatic.net/common/?autoRotate=true&type=h320_sharpen&src=http%3A%2F%2Fblogfiles.naver.net%2FMjAyMjAzMThfOTkg%2FMDAxNjQ3NTk1MjU3NDcx.4Phq3Ahnn93gnAAcG_uVwIj8O9KGr3PVbjMJIWyPheYg.oRLsc1DeO99ioDXUHhF5CzWEZBFW18UW6utbk6fyqNMg.JPEG.egojin21%2FIMG_2123.jpg%23900x900\n",
      "https://search.pstatic.net/common/?autoRotate=true&type=h320_sharpen&src=http%3A%2F%2Fblogfiles.naver.net%2FMjAyMjAxMDJfOSAg%2FMDAxNjQxMTE1MDQ1Mjg3.GYNyqEZxrZpqGz41aAduYzcvRFhhyCcWV0_8zNSHjogg.e2fX6owSAXOPqHeLF-2dkbvtulhco11WPbuzPTYYmbgg.JPEG.jheebaby27%2FIMG_9405.jpg%23900x900\n",
      "https://search.pstatic.net/common/?autoRotate=true&type=h320_sharpen&src=http%3A%2F%2Fblogfiles.naver.net%2FMjAyMjAyMThfNzIg%2FMDAxNjQ1MTQ0NDY0NTYw.i9dvtFQ1mknWn5i_U6RQPDARgp9RF2Ogn0QrLJI-ke4g.yumUA5RrD6RMFXRXh08e1GUk0FQep_SzgYpuWWNP480g.JPEG.photo4782%2F_ABH4751.JPG%231500x1001\n",
      "https://search.pstatic.net/common/?autoRotate=true&type=h320_sharpen&src=http%3A%2F%2Fblogfiles.naver.net%2FMjAyMTEyMjNfMTIx%2FMDAxNjQwMjM3OTMzNDYy.9zW49Ti9gvye1otjK3SN410J0nCWkM0JElIxuA4DbYQg.Vv-SbDXcoPcOCEyg52iK7M6R3fBJ6r3WiF8OcbIbVrgg.JPEG.mtswamp%2F298.jpg%238000x6000\n",
      "https://search.pstatic.net/common/?autoRotate=true&type=h320_sharpen&src=http%3A%2F%2Fblogfiles.naver.net%2FMjAyMTEyMTJfMjY0%2FMDAxNjM5MjY1NTkzNDcw.tn5kic22g8STQA0YadiauwvojEQwivYbdRsz-_0HbLQg.Qpos8GTEd4PXCfKC0-6-UX4-oTGvzuFwrrUCo9rwz34g.JPEG.kschung%2FSAM_4719.JPG%233080x5472\n",
      "https://search.pstatic.net/common/?autoRotate=true&type=h320_sharpen&src=http%3A%2F%2Fblogfiles.naver.net%2FMjAyMTAzMjJfMjI1%2FMDAxNjE2NDEyNDY2ODI5.RP8sd3XuA_ekGfYpg1FljeizQPtlqmNK792Y-PZM7CYg.zkxK7lcLiLpwVfA6VbP4hdJif55TzJ6PyE_40m2ZEXwg.JPEG.bowoon0421%2F20210320093140_IMG_2786.JPG%236000x4000\n",
      "https://search.pstatic.net/common/?autoRotate=true&type=h320_sharpen&src=http%3A%2F%2Fblogfiles.naver.net%2FMjAyMDEwMjBfMjQ0%2FMDAxNjAzMTk2NTU5NTE0.M11hf4PdlZyJzm6sA9EaFUHnJYggHWF-edCemHxRvwwg.zvej05ilWBRlN1I9831x2uOxxwpJt92ljjfRsW_KgeAg.JPEG.yksjehej%2F1603196558745.jpg%23900x654\n",
      "https://search.pstatic.net/common/?autoRotate=true&type=h320_sharpen&src=http%3A%2F%2Fblogfiles.naver.net%2FMjAyMTA3MjRfNDkg%2FMDAxNjI3MTM4NDg4OTQw.moqSJz7yXd2gtWIDyxjqJg9BTQdsmR6NyGXx0hmj52cg.3u-psQKJJRQXfj_m7CMgCwhXx5DeOl_EkCuA5izHnQwg.JPEG.sdy3118%2F20210717%25A3%25DF131031.jpg%23900x1200\n",
      "https://search.pstatic.net/common/?autoRotate=true&type=h320_sharpen&src=http%3A%2F%2Fblogfiles.naver.net%2FMjAyMTA4MTFfMjU2%2FMDAxNjI4NjY5NTY5NjUw.iLPkilrtuo0b-Imia4vXWMOms3YZ2w3RZAEVYbprlmgg.DWJKwv8DMsqlgexVewwzzSCkSTIhLdKUYvbXzR3cKuMg.JPEG.ljyjhjlyc%2F20210807%25A3%25DF165811.jpg%23900x675\n",
      "https://search.pstatic.net/common/?autoRotate=true&type=h320_sharpen&src=http%3A%2F%2Fblogfiles.naver.net%2FMjAyMTA3MjVfMjUz%2FMDAxNjI3MTY0NTc5MDEz.m9JfflzN04yJCL303S0CWyQPmb12ay0L6GNFCskygYwg.kl8u3bdvxawrMlsUvxRUm_L02s0pcna5asyGqFsacggg.JPEG.new_haha%2FIMG_5096.JPG%23900x674\n",
      "https://search.pstatic.net/common/?autoRotate=true&type=h320_sharpen&src=http%3A%2F%2Fblogfiles.naver.net%2FMjAyMTA3MTdfMTQ5%2FMDAxNjI2NTIwNTk4NTQ0.xdNC8CYfwIPRHlWTto5CSE3wI0CSM0kePQlLpy8L-S4g.exDI1sQBbUhyuwrLbRQjr9YRPLxYgSULTubTj0vY5yQg.JPEG.sh180623%2F1626520501920.jpg%23900x675\n",
      "https://search.pstatic.net/common/?autoRotate=true&type=h320_sharpen&src=http%3A%2F%2Fblogfiles.naver.net%2FMjAyMTEyMTJfNTkg%2FMDAxNjM5MzA3MTk0MDg4.bL7IMzuuWf8fy4nt91__E3YAdRow0HkF10DDA9cqTgcg.wsATBoVQ5108GdQ06k8eUqFANEhBLP2DUfiVkOmt-_og.JPEG.kschung%2FSAM_4800.JPG%235472x3080\n",
      "https://search.pstatic.net/common/?autoRotate=true&type=h320_sharpen&src=http%3A%2F%2Fblogfiles.naver.net%2FMjAyMTEyMThfMjU1%2FMDAxNjM5Nzg1MjEwMjA2._2VDGHQuyKSyI8ARDm3ok6McpaAPryS5VwXXawgkXJ4g.zjEGIo0oLgDPsQnGTKOOJ0-EnAQ6MZhBniguuJRpN-0g.JPEG.rose0626%2FIMG_7333.JPG%231200x900\n",
      "https://search.pstatic.net/common/?autoRotate=true&type=h320_sharpen&src=http%3A%2F%2Fblogfiles.naver.net%2FMjAyMTEyMjNfODQg%2FMDAxNjQwMjQ3NTM4MDkz.U8TznzhOJzpusJp6HooCSpRk3-aT9_zzQwa9_OTSPHAg.HcNAwwo7NTfUQnKT-0zr2SCP-OqukiwuZhSfiIcfGDYg.JPEG.mtswamp%2F607.jpg%234032x3024\n",
      "https://search.pstatic.net/common/?autoRotate=true&type=h320_sharpen&src=http%3A%2F%2Fblogfiles.naver.net%2FMjAyMjA2MTlfMjYg%2FMDAxNjU1NjIwMzc0MDcy.o4t4HYqtrLxbcvaL_TF5EX9CdA6bnfJ06WV7640R4sEg.oCLp5ToH6ZryevLLwLdq6I5aBdZWLMtI5lBTBltq1mYg.JPEG.ilubu02%2F20220619%25A3%25DF123756.jpg%23900x506\n",
      "https://search.pstatic.net/common/?autoRotate=true&type=h320_sharpen&src=http%3A%2F%2Fblogfiles.naver.net%2FMjAyMTEwMDVfODQg%2FMDAxNjMzNDE4MjcwNDY5.VfkANAW5IewcZjU8CXCg-Qw62FUI3JeGjswOO2UbJtQg.xDAk9mHMFxRpN5AmgOZAEkOZJ45mKFOpzAmhozosKs8g.JPEG.mali6186%2F20180418_163221.jpg%232656x1494\n",
      "https://search.pstatic.net/common/?autoRotate=true&type=h320_sharpen&src=http%3A%2F%2Fblogfiles.naver.net%2FMjAyMTA5MTJfMjAg%2FMDAxNjMxNDAzMjY2ODUy.tld-gapNVYTt0jTQLZM5YAoeI_p0es-s2wM1IyQnTJUg._sBC8RnRwAqiuJdwlb_Qghwx82zrv-vcCIZ7HzJaa4og.JPEG.4862toi%2F20210816_171131.jpg%234000x2250\n",
      "https://search.pstatic.net/common/?autoRotate=true&type=h320_sharpen&src=http%3A%2F%2Fblogfiles.naver.net%2FMjAyMTA2MjFfMTUy%2FMDAxNjI0MjQ4NTU0NDQy.s_yguWr0bTtdH3RZ6jkuKjcMGbPK54qNQCvExDtiZMIg.e3tn6L0hMTYW-LeY85izxEw4ufH9ow2S5gJrfKvocAEg.JPEG.jpyokim%2FIMG_8257.jpg%23900x674\n",
      "https://search.pstatic.net/common/?autoRotate=true&type=h320_sharpen&src=http%3A%2F%2Fblogfiles.naver.net%2FMjAyMDA4MTlfMzgg%2FMDAxNTk3NzkyMDI0NTk3.xcLMH9BdBQ7wtmoAgGTDAYua5LwM-BVenkrtK6Uxjkgg.aLUxYHVByUFWr7KabPLPhN5lF5XBUkLGLMLSbtEI0sAg.JPEG.huhasim%2F%25C1%25A6%25B8%25F1%25C0%25BB_%25C0%25D4%25B7%25C2%25C7%25CF%25BC%25BC%25BF%25E4_-_2020-08-19T080635.963.jpg%23600x600\n",
      "https://search.pstatic.net/common/?autoRotate=true&type=h320_sharpen&src=http%3A%2F%2Fblogfiles.naver.net%2FMjAyMTA5MTJfMjAg%2FMDAxNjMxNDAzMjY2ODUy.tld-gapNVYTt0jTQLZM5YAoeI_p0es-s2wM1IyQnTJUg._sBC8RnRwAqiuJdwlb_Qghwx82zrv-vcCIZ7HzJaa4og.JPEG.4862toi%2F20210816_171131.jpg%234000x2250\n",
      "https://search.pstatic.net/common/?autoRotate=true&type=h320_sharpen&src=http%3A%2F%2Fblogfiles.naver.net%2FMjAyMTA2MjFfMTUy%2FMDAxNjI0MjQ4NTU0NDQy.s_yguWr0bTtdH3RZ6jkuKjcMGbPK54qNQCvExDtiZMIg.e3tn6L0hMTYW-LeY85izxEw4ufH9ow2S5gJrfKvocAEg.JPEG.jpyokim%2FIMG_8257.jpg%23900x674\n",
      "https://search.pstatic.net/common/?autoRotate=true&type=h320_sharpen&src=http%3A%2F%2Fblogfiles.naver.net%2FMjAyMDExMjZfMjY4%2FMDAxNjA2MzQ5NzEzMzU5.Pd6dwDnJwfgJOdk1iNj9JBky0O5xG_YHV3gX6hnhUkYg.o-JQ8LaZ38J4H1dTuSYH9eoE_QDMckyyXrtfrpWmNIYg.JPEG.juenham333%2FIMG_0748.JPG%23900x674\n"
     ]
    },
    {
     "name": "stdout",
     "output_type": "stream",
     "text": [
      "https://search.pstatic.net/common/?autoRotate=true&type=h320_sharpen&src=http%3A%2F%2Fblogfiles.naver.net%2FMjAyMjA0MDhfMjcy%2FMDAxNjQ5NDI2NzczMjQ1.mTb7LSy31-oIOygM3ITHi6Cl75sHox8bIXUo8Wdk5F8g.8MOWHCXEXsW_ABKQMrgX9qfpafZveEDO7xKKwaj_5aQg.JPEG.skaehdo%2FKakaoTalk_20220408_224943624_02.jpg%23750x750\n",
      "https://search.pstatic.net/common/?autoRotate=true&type=h320_sharpen&src=http%3A%2F%2Fblogfiles.naver.net%2FMjAyMjAzMjdfMTUg%2FMDAxNjQ4Mzc4Njk3NDcz.BcCPzDKST7OKfRUGocbLQWuvwULVgQWOc8tQcUyfomAg.Ck5E4fo4vf35TCnR902cYMhrSg0lM2fSy7XIiABwPlwg.JPEG.tnfla0120%2FIMG_6055.jpg%23900x1200\n",
      "https://search.pstatic.net/common/?autoRotate=true&type=h320_sharpen&src=http%3A%2F%2Fblogfiles.naver.net%2FMjAyMTAyMDdfMjgg%2FMDAxNjEyNjU4ODY5NzUz.KpbtwcanmOQCNxiQA1ZizWmCJlO2C_WXF87aOho86eYg.2DEKARDvmQjEYpf9w9WFnuCBDvmE78eFJgwSp7eHx4Eg.JPEG.hopekang99%2F1612658868429.jpg%23900x675\n",
      "https://search.pstatic.net/common/?autoRotate=true&type=h320_sharpen&src=http%3A%2F%2Fblogfiles.naver.net%2FMjAyMTA3MjJfNCAg%2FMDAxNjI2OTYwMzAwODMz.eSWEUKPuVi4Pih91MWClS-tojqlO3D7memVZM999zgQg.gkQIJ2XmJ16b2WgkiNSzGcPVlKSDef_lLHD_3uTbnl8g.JPEG.tksxkcl3%2FIMG_2872.JPG%23900x990\n",
      "https://search.pstatic.net/common/?autoRotate=true&type=h320_sharpen&src=http%3A%2F%2Fblogfiles.naver.net%2FMjAyMDA0MDJfMTI3%2FMDAxNTg1ODE5OTk4NzY2.5DyoMzbKC61mTySKJlY8v_ypckRAFCbqP_tC2v7YoFog.d9wXrpC32VYrY0oQZWpeWVAfQ6gttXEwlhn1oxpnDoAg.JPEG.jvj24601%2F%25C0%25FC%25B3%25B2_%25BF%25B5%25BE%25CF.%25BF%25F9%25B0%25EE%25B8%25AE.%25B4%25C0%25C6%25BC%25B3%25AA%25B9%25AB.200322_%252817%2529.jpg%231060x600\n",
      "https://search.pstatic.net/common/?autoRotate=true&type=h320_sharpen&src=http%3A%2F%2Fblogfiles.naver.net%2FMjAyMjA3MTlfNDkg%2FMDAxNjU4MjM4NDUzNDM2.kfT4S5jU0vvY3pGcqncEulH_WCXOjHwCWW7KrHfnaXsg.7vEkAbVfT-rKkoyqWsxrTOvB2xFBKUm5-qvVx2aYssEg.JPEG.huhasim%2F%25C1%25A6%25B8%25F1%25C0%25BB_%25C0%25D4%25B7%25C2%25C7%25CF%25BC%25BC%25BF%25E4_%252817%2529.jpg%23600x600\n",
      "https://search.pstatic.net/common/?autoRotate=true&type=h320_sharpen&src=http%3A%2F%2Fblogfiles.naver.net%2FMjAyMjA3MjZfNjUg%2FMDAxNjU4Nzk4NDQzMDg3.cZIlKEBK_kF0yTlTJv-CfPxe-JcbNcpd1ogCVOkgyOMg.UEnBbvmnFogDPjY5HsQHtaciUmXZjJX78NverG02fUQg.JPEG.aj1228%2F20220518_051308.jpg%233000x4000\n",
      "https://search.pstatic.net/common/?autoRotate=true&type=h320_sharpen&src=http%3A%2F%2Fblogfiles.naver.net%2FMjAyMTA1MjJfMjky%2FMDAxNjIxNjY2MTY4MDU0.eVTk61QM-YaDEbryg3Tw3_nT7zdPjf2OPvbIhnRCJB8g.w_-h5nM7pswCoEORlwGonYqHfZOf7KlPt4qOfgcSf-sg.JPEG.bright_god%2FIMG_5146.jpg%23900x656\n",
      "https://search.pstatic.net/common/?autoRotate=true&type=h320_sharpen&src=http%3A%2F%2Fblogfiles.naver.net%2FMjAyMTA3MjRfMjYg%2FMDAxNjI3MTMxOTYyODg1.UwZIN_SJJIuaH9logWqKD1zpi3jI5bAF7GYn131ZmUIg.9aJywm5IIu3tpAnmRQs3pVhUvHyMLo5J2yg57_DGVhcg.JPEG.tch0816%2FVideoCapture%25A3%25DF20210723%25A3%25AD190934.jpg%23900x506\n",
      "https://search.pstatic.net/common/?autoRotate=true&type=h320_sharpen&src=http%3A%2F%2Fblogfiles.naver.net%2FMjAyMjAzMTRfMTI5%2FMDAxNjQ3MjQwODU0NzE4.61PZN5SsCut2ErtTrcUOp_rAWoXKDOhlRs02khgJ_xYg.bfkOQr6ohwYO_7NxkcPfgDUobZ08mRx1hLx9kCofRAsg.PNG.baksa8900%2F%25C1%25A6%25B8%25F1%25C0%25BB-%25C0%25D4%25B7%25C2%25C7%25D8%25C1%25D6%25BC%25BC%25BF%25E4_-001_%25286%2529.png%231080x1080\n",
      "https://search.pstatic.net/common/?autoRotate=true&type=h320_sharpen&src=http%3A%2F%2Fblogfiles.naver.net%2FMjAyMjAxMTJfMTkx%2FMDAxNjQxOTg2OTkwNDE0.FYPsZYWcxPZUzCPJGTEWcy7tXpt4iRPCvRiZV_e1YyQg.vH3JeLNwigHhOSFBWLkBPH7LfgMMsXqwSVNm7vFlovEg.JPEG.together_farm%2FKakaoTalk_20211206_134226000_02.jpg%234032x3024\n",
      "https://search.pstatic.net/common/?autoRotate=true&type=h320_sharpen&src=http%3A%2F%2Fblogfiles.naver.net%2FMjAyMjAyMTZfNjEg%2FMDAxNjQ0OTY5MTM5NTcy.RzFwaBvrvu0kNpJqXWbr66YIPTVNeHMRL0dERKWSxRIg._n9vZS9YJ_RB5pFhH2ljdzXPqtnwUg4yVGhQar8wY5wg.PNG.together_farm%2F%25B1%25CD%25B3%25F322.png%23768x776\n",
      "https://search.pstatic.net/common/?autoRotate=true&type=h320_sharpen&src=http%3A%2F%2Fblogfiles.naver.net%2FMjAyMDExMTFfNDgg%2FMDAxNjA1MDY2MDY5NTQy.9bESpB4oOtyVhPgJNj7t9srrd0Sujmx9enf7S_VySK0g.euqyndBXgSL4JyPzZRLRkiM_MlYUxpb9998RoOw8DcAg.JPEG.the_seoulfarm%2F%25BF%25B5%25BE%25CF_%25B4%25D9%25C3%25A4%25B7%25CE%25BF%25EE_%25BF%25B5%25BE%25CF_%25C6%25F7%25BD%25BA%25C5%25CD_1.jpg%233000x3000\n",
      "https://search.pstatic.net/common/?autoRotate=true&type=h320_sharpen&src=http%3A%2F%2Fblogfiles.naver.net%2FMjAyMTA2MDlfMzAw%2FMDAxNjIzMTk5NDA2NzM3.JlLUuQNdx11n8mQanEq4dbr3XKS3P--vobz0v0JMGPQg.50BJvi5hDlWlWmm4_ua5ERN1CxO0ISliGgTaYCCqzH4g.PNG.the_seoulfarm%2F%25BF%25F9%25C3%25E2%25BB%25EA%25C2%25F7%25B9%25E7%25C8%25FA%25B8%25B5%25C4%25B7%25C7%25C11-1.png%231000x1000\n",
      "https://search.pstatic.net/common/?autoRotate=true&type=h320_sharpen&src=http%3A%2F%2Fblogfiles.naver.net%2FMjAyMjA2MjBfMjIg%2FMDAxNjU1Njk2OTI0ODk4.Q02x64my7kthxsdci1r7LaFRoCuXFnQqwJsber_4W64g.Go2a0MzxbVpfrOVeZo_TeLQn_V6Ol0NqUcWiYBPl0JAg.JPEG.taepal0921%2F20210401%25A3%25DF110607.jpg%23900x900\n",
      "https://search.pstatic.net/common/?autoRotate=true&type=h320_sharpen&src=http%3A%2F%2Fblogfiles.naver.net%2FMjAyMjA0MTJfMjkw%2FMDAxNjQ5NzQ0NjcyMTE1.mvqbu8Ej2Cn-pvy0aCntpXZSk-zuHgep9BowZ4qB-Rog.ZDrUhL-lyCVvFXn6J9AAOd-2OQGEcgeW0-Uo5V6l1EAg.JPEG.stgstg%2F1T2A1532.JPG%236720x4480\n",
      "https://search.pstatic.net/common/?autoRotate=true&type=h320_sharpen&src=http%3A%2F%2Fblogfiles.naver.net%2FMjAyMTAzMjlfMjUy%2FMDAxNjE2OTc0ODUzMDQw.5W2__nJiHbgfq2YxomcRlrukH5Ab3OEAtLwSGPHaWKkg.F09FtAQNC1ddUbzi-uH4J84QePJjoGHCzSy5Fnpbff0g.JPEG.g3985%2FIMG_6230.jpg%23898x1198\n",
      "https://search.pstatic.net/common/?autoRotate=true&type=h320_sharpen&src=http%3A%2F%2Fblogfiles.naver.net%2FMjAyMTAzMzBfMTA3%2FMDAxNjE3MDg4NzYyNTcz.8F1usiswBDBEnBOH4B-JpKWu96rtsHAOw8xiR9udSgYg.pkkEzJLfi0zA9zp9ZlsrJ3cC9MFt0VLgZKX6L0oaTHUg.JPEG.coallaqt%2F20210327%25A3%25DF103848.jpg%23900x506\n",
      "https://search.pstatic.net/common/?autoRotate=true&type=h320_sharpen&src=http%3A%2F%2Fblogfiles.naver.net%2FMjAyMDA0MTlfMTY4%2FMDAxNTg3Mjg3NTYyMTIx.ktY5VP8Q6rJ9x3sILi8upNZzFf2JEpE6Cs4ATqAGNYog.rte72Tvz1j9eG4BUjMsv_9dgoBETsGTvZjsZZea57VIg.JPEG.ashim1%2FSIM_1393.jpg%231300x867\n",
      "https://search.pstatic.net/common/?autoRotate=true&type=h320_sharpen&src=http%3A%2F%2Fblogfiles.naver.net%2FMjAyMDEyMTBfMTk5%2FMDAxNjA3NTY4MzA3NTY3.Sv4E2QVyV3RBh2l8z_aOF3OCLAu2Xcm9e5EEtgBfXHUg.zCxFz9mVpQ8yTwSmVzwtCDGTUCptfWF_qC0KGWgijjEg.JPEG.seoldj%2FDSC02400.JPG%231350x900\n",
      "https://search.pstatic.net/common/?autoRotate=true&type=h320_sharpen&src=http%3A%2F%2Fblogfiles.naver.net%2FMjAyMDA1MjhfMjMz%2FMDAxNTkwNjIyODk2MTcy.fpy1hCqdrro1LXKatjNFHoOuLdbxows-nh7kajKTLV4g.h3viOF_3pJBos1yN8gr9nMLwDCDvGl13Va5z1H8b4Yog.JPEG.janghaklee%2F_DSC0081.JPG%234240x2832\n",
      "https://search.pstatic.net/common/?autoRotate=true&type=h320_sharpen&src=http%3A%2F%2Fblogfiles.naver.net%2FMjAyMTExMzBfMjg2%2FMDAxNjM4MjUyMzEzMTA1.XfzU5aDcfJlE2L_XTSnsW4tgulRrMbhDUBexiGxGfCwg.E1qNCRc0_wC4pQw94fISEum--iny68Kifw_dPyAqcrsg.PNG.gotofamily%2F%25BF%25B5%25BE%25CF_%25BF%25F9%25C3%25E2%25BB%25EA_%25B1%25B9%25B8%25B3%25B0%25F8%25BF%25F8_%25B5%25EE%25BB%25EA%25C4%25DA%25BD%25BA_%25BB%25EA%25BC%25BA%25B4%25EB_%25BD%25B1%25B0%25ED_%25BE%25C6%25B8%25A7%25B4%25D9%25BF%25EE_%25B4%25C9%25BC%25B1%25B1%25E6.png%231080x1080\n",
      "https://search.pstatic.net/common/?autoRotate=true&type=h320_sharpen&src=http%3A%2F%2Fblogfiles.naver.net%2FMjAyMTA5MjNfNjMg%2FMDAxNjMyMzkwMzQxMzQ5.C-JNybcYLKtlcMfNBHOupm33Jj96GaSceXkHAkYbuHYg.XD9a5PQ5rvz24zJ7xA8ULMnsj_-RcJdgUM97bdCc2Tcg.JPEG.gaussla%2F032.JPG%234320x2880\n",
      "https://search.pstatic.net/common/?autoRotate=true&type=h320_sharpen&src=http%3A%2F%2Fblogfiles.naver.net%2FMjAyMTA4MjZfMjAw%2FMDAxNjI5OTc3OTg3MDU1.86o5fIZrdYOfh6AF_lUB49AgxzLBQfrB9p7TTuC0vLgg.mUS9dyS-RObK2WxZxAwUw5vFX00I8WRPhjIJUxKMLV8g.JPEG.mino610%2F20.jpg%23950x633\n",
      "https://search.pstatic.net/common/?autoRotate=true&type=h320_sharpen&src=http%3A%2F%2Fblogfiles.naver.net%2FMjAyMjAyMTFfOTYg%2FMDAxNjQ0NTg1NDUyMTA4.epXr6TKqjGDERTQI2osjckga7oXWMLqCznknZCCzH1kg.a3gD9VJV6pz1exHnggZ68Qga-ze5zHALv0QhMvtl-H8g.JPEG.lifebook57%2F1644585451340.jpg%23900x506\n",
      "https://search.pstatic.net/common/?autoRotate=true&type=h320_sharpen&src=http%3A%2F%2Fblogfiles.naver.net%2FMjAyMTEyMTRfMTM4%2FMDAxNjM5NDQxNDY5MTU0.zjtQg36EQXIB59nF96kf3Y4wFzCHK3jBP7JD5mWuGqog.2gLsmzpumSBu6l6j3sf_sMucxNxOBbBlph0Yeyml2XEg.JPEG.hitomi0521%2F20211122%25A3%25DF104654.jpg%23900x506\n",
      "https://search.pstatic.net/common/?autoRotate=true&type=h320_sharpen&src=http%3A%2F%2Fblogfiles.naver.net%2FMjAyMTExMDRfMjQ2%2FMDAxNjM2MDIyNzMxMzY5.IUIlKrEApQ6uETNV6j7K-wKg-9Us68FBRpxZH6QrgnYg.SusimHnm5WbNk7u9nOD-rWwFs3M1j8uzcsEFaUfbIaMg.JPEG.duddkaskawk%2FKakaoTalk_20211104_120028266_01.jpg%232977x1588\n",
      "https://search.pstatic.net/common/?autoRotate=true&type=h320_sharpen&src=http%3A%2F%2Fblogfiles.naver.net%2FMjAyMjAyMTFfOTYg%2FMDAxNjQ0NTg1NDUyMTA4.epXr6TKqjGDERTQI2osjckga7oXWMLqCznknZCCzH1kg.a3gD9VJV6pz1exHnggZ68Qga-ze5zHALv0QhMvtl-H8g.JPEG.lifebook57%2F1644585451340.jpg%23900x506\n",
      "https://search.pstatic.net/common/?autoRotate=true&type=h320_sharpen&src=http%3A%2F%2Fblogfiles.naver.net%2FMjAyMTEyMTRfMTM4%2FMDAxNjM5NDQxNDY5MTU0.zjtQg36EQXIB59nF96kf3Y4wFzCHK3jBP7JD5mWuGqog.2gLsmzpumSBu6l6j3sf_sMucxNxOBbBlph0Yeyml2XEg.JPEG.hitomi0521%2F20211122%25A3%25DF104654.jpg%23900x506\n",
      "https://search.pstatic.net/common/?autoRotate=true&type=h320_sharpen&src=http%3A%2F%2Fblogfiles.naver.net%2FMjAyMDA2MDdfNCAg%2FMDAxNTkxNTMwODc0MDg2.j6K3_nKZc8xp8Nj5M0mFZ3d7RDyOTTiBAY0HuVMPuKAg.IlIhcSjfvLnLr-z9HPqz-sDhboCaiJGxdCAIher8e6wg.JPEG.huhasim%2F%25C8%25B8%25BB%25E7%25C1%25A42.jpg%23600x600\n"
     ]
    },
    {
     "name": "stdout",
     "output_type": "stream",
     "text": [
      "https://search.pstatic.net/common/?autoRotate=true&type=h320_sharpen&src=http%3A%2F%2Fblogfiles.naver.net%2FMjAxODEyMzFfMTIx%2FMDAxNTQ2MjI5ODYyOTc2.wQKDHi4ZLC-1vpLeYds02zwFxrGrB2P0NuN8y15qA_wg.8PtUjfMZzFIjUOtvHkEpT-_25-rAW6NDKbSHRpxS7XAg.PNG.rokmc2911%2F%25BB%25F3%25B4%25EB1.png%23740x416\n",
      "https://search.pstatic.net/common/?autoRotate=true&type=h320_sharpen&src=http%3A%2F%2Fblogfiles.naver.net%2FMjAyMDA3MDJfMjM1%2FMDAxNTkzNjg2NTU3MTY0.FVp7_TppSsP10Cc_2xnfvU07hGf3CrQ0bGyIptHxJ_4g.6VSDWfEw4t23wHVa3D7s768jYvCwtxLc3bxrXP_iIyQg.JPEG.jpyokim%2FIMG_1933.jpg%23898x674\n",
      "https://search.pstatic.net/common/?autoRotate=true&type=h320_sharpen&src=http%3A%2F%2Fblogfiles.naver.net%2FMjAyMDA2MDdfNCAg%2FMDAxNTkxNTMwODc0MDg2.j6K3_nKZc8xp8Nj5M0mFZ3d7RDyOTTiBAY0HuVMPuKAg.IlIhcSjfvLnLr-z9HPqz-sDhboCaiJGxdCAIher8e6wg.JPEG.huhasim%2F%25C8%25B8%25BB%25E7%25C1%25A42.jpg%23600x600\n",
      "https://search.pstatic.net/common/?autoRotate=true&type=h320_sharpen&src=http%3A%2F%2Fblogfiles.naver.net%2FMjAxODEyMzFfMTIx%2FMDAxNTQ2MjI5ODYyOTc2.wQKDHi4ZLC-1vpLeYds02zwFxrGrB2P0NuN8y15qA_wg.8PtUjfMZzFIjUOtvHkEpT-_25-rAW6NDKbSHRpxS7XAg.PNG.rokmc2911%2F%25BB%25F3%25B4%25EB1.png%23740x416\n",
      "https://search.pstatic.net/common/?autoRotate=true&type=h320_sharpen&src=http%3A%2F%2Fblogfiles.naver.net%2FMjAyMjAxMTRfOSAg%2FMDAxNjQyMTY0MTY5Mjkw.Pfm0Pk5-F756-KagzfBrTaUynStLNKJP-T2K0YNBHRkg.3BLJgVmH8Wy4GEBOC_IJiG_4Q_OrRXuh7AcS1AWesBQg.JPEG.jpyokim%2FIMG_6171.jpg%23900x1202\n",
      "https://search.pstatic.net/common/?autoRotate=true&type=h320_sharpen&src=http%3A%2F%2Fblogfiles.naver.net%2FMjAyMTAzMDRfNzkg%2FMDAxNjE0ODUzMTI2NjY5.cmGWv3nbtbgeapViOKYs9OBnD_SiL4hcXvY8nXWy1Fsg.QCO_977G0ZMiUqvOpQK_C6IV2oDNDhq1baR6f0TJ9OYg.JPEG.huhasim%2F%25BA%25ED%25B7%25CE%25B1%25D7%25BD%25E6%25B3%25D7%25C0%25CF_%252815%2529.jpg%23600x600\n",
      "https://search.pstatic.net/common/?autoRotate=true&type=h320_sharpen&src=http%3A%2F%2Fblogfiles.naver.net%2FMjAyMTA1MDVfNjYg%2FMDAxNjIwMTg5MjQxMzQ2.iOE2nGSvAWrDZKArAfATnlwMD6qnBUVckzKJcvhutDog.I5Sn3yNbMP_o07kHE9jmdMpeoe4DMG80ohj1-8UUm30g.JPEG.licj2mk%2FIMG_1290.jpeg%233984x2656\n",
      "https://search.pstatic.net/common/?autoRotate=true&type=h320_sharpen&src=http%3A%2F%2Fblogfiles.naver.net%2FMjAyMTA5MTRfMTc0%2FMDAxNjMxNjI2NDM2NzY0.2L-h1NMJd6UwIJYI688XYDYeFSGS-V969pqMLf7Lp-Qg.NthvWMB6ALC2mTCvsGgSGSa19GdsUOEFAAZXgTIzLwgg.JPEG.huhasim%2F%25BA%25ED%25B7%25CE%25B1%25D7%25BD%25E6%25B3%25D7%25C0%25CF_-_2021-09-14T222551.781.jpg%23600x600\n",
      "https://search.pstatic.net/common/?autoRotate=true&type=h320_sharpen&src=http%3A%2F%2Fblogfiles.naver.net%2FMjAyMTA5MTRfMjI1%2FMDAxNjMxNjIzNzY0NTEw.xmxVMSk_tPDjmmrTOYyYvh618gRMyDS5eCED5NieR40g.vERNz7U_LUDYyT8M1yGnrjAihr11JC1820h7p6gReb4g.JPEG.huhajung%2F1.JPG%236720x4480\n",
      "https://search.pstatic.net/common/?autoRotate=true&type=h320_sharpen&src=http%3A%2F%2Fblogfiles.naver.net%2FMjAyMDEwMDVfMTEz%2FMDAxNjAxODU5Nzk4OTA1.QtMS6PhvhvdHMM9rdqvyCz3ecsyCRrq39Tf2vOOpJN8g.uA4MO8uo6um2zVh3EGywM7MjfkCVxzODpoyayZQVxycg.JPEG.huhasim%2F%25BF%25B5%25BE%25CF%25B0%25F8%25BF%25F8.jpg%23600x600\n",
      "https://search.pstatic.net/common/?autoRotate=true&type=h320_sharpen&src=http%3A%2F%2Fblogfiles.naver.net%2FMjAxOTEyMzBfNiAg%2FMDAxNTc3NjY2NjQxNTE2.3AEKh1DQnHQdYya5ddaztZ83O1LspUQ5TTxXsiPByEsg.9qH40tKr9myourc2YRiZ1W-EJ6-TNcYxbt4EbfLRRGog.JPEG.ehy2106%2FDSC_2383%25BC%25F6.jpg%232804x1871\n",
      "https://search.pstatic.net/common/?autoRotate=true&type=h320_sharpen&src=http%3A%2F%2Fblogfiles.naver.net%2FMjAyMTA5MjNfODYg%2FMDAxNjMyMzUyNjA0NDc5.YX_o6GyfHgDQH5DopIMOB9Xu8T0LZnbRCShSXYvQChgg.fWfAyAnSG0CPLZq5gSKZdxp4t3hgwT9lNaVt7VpDTKYg.JPEG.namsook0640%2F1632317875262.jpg%23900x895\n",
      "https://search.pstatic.net/common/?autoRotate=true&type=h320_sharpen&src=http%3A%2F%2Fblogfiles.naver.net%2FMjAyMTA4MTZfMTM4%2FMDAxNjI5MDYzMzQzNDI2.jeChrpQkATvPJ6gfLXd0IgiLprPYJh8tmHcCQPqGtTwg.WXpE5xlKiABNl8S3AHcgPyyAqqksYjvC6aNo2OynLKkg.JPEG.tuks9%2F20210815%25A3%25DF113304%25A3%25DF688.jpg%23900x1600\n",
      "https://search.pstatic.net/common/?autoRotate=true&type=h320_sharpen&src=http%3A%2F%2Fblogfiles.naver.net%2FMjAyMTAxMTZfMTQx%2FMDAxNjEwNzYyMDM5MTE0.LA5ynocIV7BuSsfyx2E9Qe7bqd-ixvHGzOjvLw6m7ewg.F82w3NYyTrG1Hk5O4Pn9d_wX119NCJK6qFQyvVmUbCgg.JPEG.gh7611%2F20210109_120844.jpg%234000x2250\n",
      "https://search.pstatic.net/common/?autoRotate=true&type=h320_sharpen&src=http%3A%2F%2Fblogfiles.naver.net%2FMjAyMDExMTNfMTM3%2FMDAxNjA1MjQyODU0MzI2.k9_oss6oFByjZp1xVff68uef5b0mmo_GgE8DFNRwt64g.eI5JpbWt72SgulMwWeb9V4WBoUDuT4nfJTlFwVLuzSYg.JPEG.jungsj4747%2F_J4L8380_c150.jpg%231067x1457\n",
      "https://search.pstatic.net/common/?autoRotate=true&type=h320_sharpen&src=http%3A%2F%2Fblogfiles.naver.net%2FMjAyMTEwMjRfMjMy%2FMDAxNjM1MDE5MDU3ODk2.5LOz45bcAi9EoTlBaNKcxnDzqityAKd5agRBkEzaIbQg.ikPFbXQfDqiIiLB7lAYAtSaE1SAYYBF4iRyHg7jyE0Yg.JPEG.squirrel1226%2F1-7-8.jpg%231500x1007\n",
      "https://search.pstatic.net/common/?autoRotate=true&type=h320_sharpen&src=http%3A%2F%2Fblogfiles.naver.net%2FMjAyMDAyMDZfNDIg%2FMDAxNTgwOTk0NjczNzI4.0GJ_TWcAFXtGnDPOpmsAwxBH6Ei4F_hzwgqfpoYcvC4g.SJl917RiqKy85FH7mm6BAli-Awh0Ktl06IFiAsVlEIMg.JPEG.bogirang%2FKakaoTalk_20200206_215231571_07.jpg%233000x2250\n",
      "https://search.pstatic.net/common/?autoRotate=true&type=h320_sharpen&src=http%3A%2F%2Fblogfiles.naver.net%2FMjAyMTEwMjRfMjY3%2FMDAxNjM1MDIxMDQ2ODIz.6rN7CQI4Mj2pWqsnXYXaTr76D3ecVrDAe27d-GSHMiUg.pKZFuzhnN-fuzcIckCsROEuh2cHfJyv79UxF-aL2JA4g.JPEG.squirrel1226%2F1-5-5.jpg%231500x1007\n",
      "https://search.pstatic.net/common/?autoRotate=true&type=h320_sharpen&src=http%3A%2F%2Fblogfiles.naver.net%2FMjAyMjAyMjdfMTM2%2FMDAxNjQ1OTY0MTg5OTk3.yNsHIq_OYcoSCpN0bRfP9dZdMNxNPQw1Vn7-BCMZi5kg.jApo_-9DijiZx8jr3BK5R2LDSd9lPOjKsMshQTHH_ZMg.JPEG.huhasim%2F%25BA%25ED%25B7%25CE%25B1%25D7%25BD%25E6%25B3%25D7%25C0%25CF_%252814%2529.jpg%23600x600\n",
      "https://search.pstatic.net/common/?autoRotate=true&type=h320_sharpen&src=http%3A%2F%2Fblogfiles.naver.net%2FMjAyMjAyMTNfMTM2%2FMDAxNjQ0NzM5NjY5Nzcy.mSV9Q3I-eUJz9hTevW5ZOyXOU8DylqOjBOzI7lU8FyAg.F5MUvFTowPTbBVJGRQJEblOWyqRYDsG6RYSXzYkQ2l4g.JPEG.suro71%2FDSC04119.JPG%233568x2368\n",
      "https://search.pstatic.net/common/?autoRotate=true&type=h320_sharpen&src=http%3A%2F%2Fblogfiles.naver.net%2FMjAyMTA0MTZfMTY0%2FMDAxNjE4NTQ5NDcwODcz.yXtFSCi5JCf6sp64Z7317FsImKN-w0t83NIrlBA0ajAg.6vHsR_ptdd6fvGwP2LPAvC8GWdB0Ou1QRlUDJuoh3m0g.JPEG.zeropop0%2FIMG_0939.JPG%236960x4640\n",
      "https://search.pstatic.net/common/?autoRotate=true&type=h320_sharpen&src=http%3A%2F%2Fblogfiles.naver.net%2FMjAyMjA3MDZfMTcg%2FMDAxNjU3MDk1MTYzNDcx.kl5uZf8cRepXHWNkKMxN8lNSAj5JzRhy1oghpdxtnTwg.f5MrdDbMAovKeY7VDuYTKG0U0nPyWwg2FjiDFGYWi-kg.JPEG.shijun1046%2F20220706_121306.jpg%233000x2250\n",
      "https://search.pstatic.net/common/?autoRotate=true&type=h320_sharpen&src=http%3A%2F%2Fblogfiles.naver.net%2FMjAyMjAyMTJfMjI3%2FMDAxNjQ0NjcxODg2OTcy.Bry2QCTCOBg9sOPYsAmSf7L3f2K0_H8mjFGYUc5Tmv0g.Dnb7X-pSFaNhcRhsHmWMrBDNcv6-EgwI3zzi_02wKTUg.JPEG.hyuk2870%2FIMG_7637.jpg%23900x1200\n",
      "https://search.pstatic.net/common/?autoRotate=true&type=h320_sharpen&src=http%3A%2F%2Fblogfiles.naver.net%2FMjAxOTExMTFfMjgy%2FMDAxNTczNDc0MjMyNDEy.-fb2wRwQ30wLBT1WcaBKVqvlICQVbLX8rOj-8NT4vWkg.sRW_uTskCLZ6G51f-inLEHMfaJgL9_8VBpl7cNd-Z24g.JPEG.ahah1301%2F1573474223056.jpg%23900x857\n",
      "https://search.pstatic.net/common/?autoRotate=true&type=h320_sharpen&src=http%3A%2F%2Fblogfiles.naver.net%2FMjAyMTA0MDJfMjAg%2FMDAxNjE3MzI3MDcxMDMw.5gCoULU4C3OHf4DvjMvvG__hEUU-foqHtmTeh5kN5W4g.TxzZunGO9vHDxgzikIbeF2B2f5pNSMnaa9ZaOfhNSn0g.JPEG.mical59%2F1600089019504.jpg%23580x435\n",
      "https://search.pstatic.net/common/?autoRotate=true&type=h320_sharpen&src=http%3A%2F%2Fblogfiles.naver.net%2FMjAyMjA3MTlfMjc5%2FMDAxNjU4MjM4NDY5Mjc3.cEef8l_JIeMAbojevgrOeo-JR-OfsnIk_aXisTZamo4g.Przf33TB4c7hLyStYEdCYD08py6FNlnGQ9Q77bUJmdUg.JPEG.huhasim%2F%25C1%25A6%25B8%25F1%25C0%25BB_%25C0%25D4%25B7%25C2%25C7%25CF%25BC%25BC%25BF%25E4_%252818%2529.jpg%23600x600\n",
      "https://search.pstatic.net/common/?autoRotate=true&type=h320_sharpen&src=http%3A%2F%2Fblogfiles.naver.net%2FMjAyMTA1MTFfMTQ4%2FMDAxNjIwNzM3MjM3NzY3.-V3yZUkqg1JI9X_WzXRBAC1Nx1QcuQESYp5pnTDUyFYg.rzGNOgxyj-uWnfnplRCF3PtkPEFXjvhKpD4dduyz6_cg.JPEG.jb3699c%2F1620736382768.jpg%23867x652\n",
      "https://search.pstatic.net/common/?autoRotate=true&type=h320_sharpen&src=http%3A%2F%2Fblogfiles.naver.net%2FMjAyMTA1MDZfMTAg%2FMDAxNjIwMjcyMTg0MjQ3.YhJ5jGwmdrBBbbYsObeNrgXLt-oFIY-OUZKZbLVbrYYg.gkUrXnwIXtO0zFMVsI0GOIqipyEy5J7yVi1BbDpSPTIg.JPEG.suro71%2FDSC04047.JPG%233568x2368\n",
      "https://search.pstatic.net/common/?autoRotate=true&type=h320_sharpen&src=http%3A%2F%2Fblogfiles.naver.net%2FMjAyMjA3MTlfMjc5%2FMDAxNjU4MjM4NDY5Mjc3.cEef8l_JIeMAbojevgrOeo-JR-OfsnIk_aXisTZamo4g.Przf33TB4c7hLyStYEdCYD08py6FNlnGQ9Q77bUJmdUg.JPEG.huhasim%2F%25C1%25A6%25B8%25F1%25C0%25BB_%25C0%25D4%25B7%25C2%25C7%25CF%25BC%25BC%25BF%25E4_%252818%2529.jpg%23600x600\n",
      "https://search.pstatic.net/common/?autoRotate=true&type=h320_sharpen&src=http%3A%2F%2Fblogfiles.naver.net%2FMjAyMTA1MTFfMTQ4%2FMDAxNjIwNzM3MjM3NzY3.-V3yZUkqg1JI9X_WzXRBAC1Nx1QcuQESYp5pnTDUyFYg.rzGNOgxyj-uWnfnplRCF3PtkPEFXjvhKpD4dduyz6_cg.JPEG.jb3699c%2F1620736382768.jpg%23867x652\n",
      "https://search.pstatic.net/common/?autoRotate=true&type=h320_sharpen&src=http%3A%2F%2Fblogfiles.naver.net%2FMjAyMTA4MjRfMTAx%2FMDAxNjI5ODA5MzA4NTQ3.6dtR8XxLKLSUKMNsQFRrRg-qPTjhw0QV6G-DboeBRyYg.BCP4Q3LRvJAyR4NTFlPBFKiLY2BHb2h1btTdWbz-nDUg.JPEG.salzburg0723%2F%25C1%25A6%25B8%25F1.jpg%231280x853\n",
      "https://search.pstatic.net/common/?autoRotate=true&type=h320_sharpen&src=http%3A%2F%2Fblogfiles.naver.net%2FMjAyMDA1MTdfMTIx%2FMDAxNTg5NzIyNzQ3OTIz.kZ45qx4Gg28k7XVvRqjQBR7NBsrYMVTzlD1pbw9dyp8g.FXYS48yMUynNNhVavjo2rnLKBMM5HC_VY9CGvyJF4_kg.JPEG.huhasim%2F%25C0%25E5%25BE%25CF%25C1%25A42.jpg%23600x600\n",
      "https://search.pstatic.net/common/?autoRotate=true&type=h320_sharpen&src=http%3A%2F%2Fblogfiles.naver.net%2FMjAxODEyMTdfODgg%2FMDAxNTQ1MDQ4OTUwNTUx.asjRmvcGnUic6YP77PfufAsCdPWRcuiJBLHeTCoa15Ig.Id0Ph4e0qwPuVFrTTpG5dVYJMuLNJ4am4baP3Cnibm8g.JPEG.jpyokim%2FIMG_7271.jpg%23900x675\n"
     ]
    },
    {
     "name": "stdout",
     "output_type": "stream",
     "text": [
      "https://search.pstatic.net/common/?autoRotate=true&type=h320_sharpen&src=http%3A%2F%2Fblogfiles.naver.net%2FMjAxOTAyMDRfMjQ2%2FMDAxNTQ5MjM4OTQ5MzE3.umN-m-qmy5PDL3BMoQgDz47bC263sRa_T7iwmfiHGy4g.PoNH2jBEcU65XD1OKGHlDh0AmDUWAPdMALf_k4hM_8Mg.JPEG.ejhyun20%2F20190204_075535.jpg%23900x675\n",
      "https://search.pstatic.net/common/?autoRotate=true&type=h320_sharpen&src=http%3A%2F%2Fblogfiles.naver.net%2FMjAyMjA3MjBfMjI5%2FMDAxNjU4MjkxNTg5MTM5.vuUzkz0KsMuGNc35IcpVAHX4cOHIFdMZml8ldE1CLnAg.jd3-7Bg2zfmTRCnm43fwSY4RzAy3cyLisdN24c71uzcg.JPEG.jitaizzang%2F1658290923166.jpg%23900x900\n",
      "https://search.pstatic.net/common/?autoRotate=true&type=h320_sharpen&src=http%3A%2F%2Fblogfiles.naver.net%2FMjAyMjA4MDRfMjMx%2FMDAxNjU5NjA3MDg1Mjkz.1UXG3nelP8MA8SJU3N56KnNmUAZHuCNioZdo2pozsfMg.KZdyIPdzBqAwdqTK-Di_Q_vSnNUA9gqxOPkpHwu5yGIg.JPEG.anglejang%2F1659607080962.jpg%23900x1600\n",
      "https://search.pstatic.net/common/?autoRotate=true&type=h320_sharpen&src=http%3A%2F%2Fblogfiles.naver.net%2FMjAyMjA0MjdfOTEg%2FMDAxNjUxMDI1NDc4NTcw.w_umDF_L0jmkuSFq_SjRRZKYMwJ0bxLXfbS9B2Usi4Ug.QphRivK0XL9rjcFjAK3ui5Wct_97b7PtVwjxs4XK2sMg.JPEG.yej9359%2FIMG_5975.jpg%23900x1200\n",
      "https://search.pstatic.net/common/?autoRotate=true&type=h320_sharpen&src=http%3A%2F%2Fblogfiles.naver.net%2FMjAyMjA4MThfMTA5%2FMDAxNjYwODMzNTQ3MzI4.Bw1BQhvEED8Y6iccoZpqBRtu1wWOmp2ZyzgCEc8ubAMg.Qt893ZsHlHy8J5wkoCIeAk2JbQcWQ2yCM1j-Vg6L9bQg.JPEG.emmapark703%2F1660831927383.jpg%23900x1200\n",
      "https://search.pstatic.net/common/?autoRotate=true&type=h320_sharpen&src=http%3A%2F%2Fblogfiles.naver.net%2FMjAyMjAzMDhfMiAg%2FMDAxNjQ2NzQ3MTY1Nzc3.ymsknmcAnDBR5juIksxvyqdck1OmvfmWHJMvaxoxKFcg.dwZBD94h4ACuEambo0ZLxTBqYZnZI6ebHM00dQQe7wgg.JPEG.white0962%2F20220308%25A3%25DF224555.jpg%23900x900\n",
      "https://search.pstatic.net/common/?autoRotate=true&type=h320_sharpen&src=http%3A%2F%2Fblogfiles.naver.net%2FMjAyMjAxMjRfOTcg%2FMDAxNjQzMDAzMDM1NzE5._nTnALUfTEpRLgs4N6G6Zjf3gdi5g51QoXJLsfZn-MAg.Wwg1AYH0uAk7k0IyHYVkgqjLuackSnvX5YqASsy6-dUg.JPEG.korea_diary%2F%25BD%25E6%25B3%25D7%25C0%25CF%25B0%25B3%25BC%25B1.jpg%23429x429\n",
      "https://search.pstatic.net/common/?autoRotate=true&type=h320_sharpen&src=http%3A%2F%2Fblogfiles.naver.net%2FMjAyMTEwMTdfMTky%2FMDAxNjM0NDc0MDI5NDcz.6yNBOjQAoZ503PFWKYQeiNPJQoP_PGBO2oqgQ3X_iXcg.NNSPsFWdD4vTN8GM6__upVHzodfwhYquF_KMiDjnpQcg.JPEG.lllpeacelll1%2F%25C1%25A6%25B8%25F1%25C0%25BB-%25C0%25D4%25B7%25C2%25C7%25D8%25C1%25D6%25BC%25BC%25BF%25E4_-001.jpg%231080x1080\n",
      "https://search.pstatic.net/common/?autoRotate=true&type=h320_sharpen&src=http%3A%2F%2Fblogfiles.naver.net%2FMjAyMjAzMTFfMjA5%2FMDAxNjQ2OTc3OTE0Mzc5.10VrhwhLPiH-jxdT9Z8V3hi1EeezL0svDe4F942horog.-XeuM3QeUdlwPHowZ6i-b4Ly1ckQSEArRfLalP9dA9Mg.JPEG.sjy20188%2F20220309%25A3%25DF170526.jpg%23900x1200\n",
      "https://search.pstatic.net/common/?autoRotate=true&type=h320_sharpen&src=http%3A%2F%2Fblogfiles.naver.net%2FMjAyMjAzMjJfMTAx%2FMDAxNjQ3OTQ4NTYzODA4.UdhIsweh5hB4eU3yhakwxVs_7hNajqTfVt4vbxNiSOkg.CyTro8f3UYndyzi1Evnw_Kr0q1aOpNwNAVes4-RI7jsg.JPEG.qcharm%2FIMG_2154.JPG%23700x933\n",
      "https://search.pstatic.net/common/?autoRotate=true&type=h320_sharpen&src=http%3A%2F%2Fblogfiles.naver.net%2FMjAyMjA3MTJfNzUg%2FMDAxNjU3NTUzMTU1MjQ4.vZJOSrbAvVDZPH5xv7C5xIolE5YawXaEeg_8SQFuV5Qg.CDGb52Wg0C1lrv89o0rU0XGYBw5zsu1zIlbFCI9_nWMg.JPEG.ladesconocida%2F1654418317657-5.jpg%233000x2250\n",
      "https://search.pstatic.net/common/?autoRotate=true&type=h320_sharpen&src=http%3A%2F%2Fblogfiles.naver.net%2FMjAyMjA3MThfMjk3%2FMDAxNjU4MTMwMTQ3NjMy.Bj68RNI75GsVJ7ztN_ZLiN5HGsa_yWhdTwaK_3aWUN4g.5bCfd8vzFeRABuKBSIiKhduopUS_r3qDayLp0aCPx-Eg.JPEG.seoyujin0706%2FIMG_5204.JPG%233024x4032\n",
      "https://search.pstatic.net/common/?autoRotate=true&type=h320_sharpen&src=http%3A%2F%2Fblogfiles.naver.net%2FMjAyMjA2MjBfNjQg%2FMDAxNjU1NzI4Mzg2NjYz.mFevoI1XTRZvbiY3fiW2Q8jaoIzv7I1SrcLeuLCK-1og.pgEu-w9-lE4IU2RmeVOt8m-RyQnZ-9Hye98M42lHFYUg.JPEG.dailygold%2Foutput_1718244969.jpg%23740x740\n",
      "https://search.pstatic.net/common/?autoRotate=true&type=h320_sharpen&src=http%3A%2F%2Fblogfiles.naver.net%2FMjAyMjA4MTZfMjIx%2FMDAxNjYwNTc5MzA3OTQ4.VLXFEdWRe7CeQ8d7FMg704kJMZ1G97e2SYEW6vfGA6sg.9hpIMS4tUbhr4WyYxcAe2L3UB-Y-sC_74aNrGtyF6_wg.JPEG.hzzomi%2FIMG_2404.jpg%23900x1200\n",
      "https://search.pstatic.net/common/?autoRotate=true&type=h320_sharpen&src=http%3A%2F%2Fblogfiles.naver.net%2FMjAyMjA2MDNfMTIw%2FMDAxNjU0MjUyOTEzNjk4.tUhaxRUdpEx8TCLijJU0RLMkAr7d2c7SVWdcfrKiC_Mg.KNmKqvPd1HtbO4NKLryzAwTplnLIsURN0wsSE79Ua70g.JPEG.0605gir%2F20220526_122928.jpg%232151x2955\n",
      "https://search.pstatic.net/common/?autoRotate=true&type=h320_sharpen&src=http%3A%2F%2Fblogfiles.naver.net%2FMjAyMjA4MThfNCAg%2FMDAxNjYwODI2MDY3ODg0.rkBODQoJF3CKf9_ZVxvk8lz_DrzQx148cDlklLLIcoEg.cgjbaAiHLA89TJ0hNiE67a1jv08jSkBcRHF2QgsR7mUg.JPEG.joneyney%2FIMG_4323.JPG%233024x4032\n",
      "https://search.pstatic.net/common/?autoRotate=true&type=h320_sharpen&src=http%3A%2F%2Fblogfiles.naver.net%2FMjAyMjA4MjFfMjE3%2FMDAxNjYxMDYwMjQyMjE3.rypVIuM-zXa2w1aELpcXBv4dxbuBVX4V_f0rQx_B9rQg.yeDoptqCsZVWau4XWmIqsLat6Kc6Hdsjr1QTRI8NcFog.JPEG.qazwsx2846%2FIMG_0233.jpg%23900x1200\n",
      "https://search.pstatic.net/common/?autoRotate=true&type=h320_sharpen&src=http%3A%2F%2Fblogfiles.naver.net%2FMjAyMjA2MDhfMTgx%2FMDAxNjU0NjcxNjk2OTg4.-nZujLdOxGAdL80YUaDrgI4APV7DZsRPb4nuIOO4cGkg.xHe1WEkoBUL0DV9oi7ryetfHVXqdLhee0jKDtad6tYog.JPEG.my342434%2FKakaoTalk_20220607_204154173_24.jpg%231440x1080\n",
      "https://search.pstatic.net/common/?autoRotate=true&type=h320_sharpen&src=http%3A%2F%2Fblogfiles.naver.net%2FMjAyMjA4MTZfMTIx%2FMDAxNjYwNjE0NzI0NzIx.aPF8xQQF6fLgQ9tPYsoXTWBPiQdFPKwbWUMqrhloQWUg.pW9wAZUSuI9SqhnPobJGDBjFjhdJPoNVdNrON2IRNJ4g.JPEG.luvds%2FIMG_1543.jpg%23900x1200\n",
      "https://search.pstatic.net/common/?autoRotate=true&type=h320_sharpen&src=http%3A%2F%2Fblogfiles.naver.net%2FMjAyMDA2MDJfMjkw%2FMDAxNTkxMDY3MzIxNTU2.bu6--JCJyhkG3-Zqi0dM6gsTUNHi5sbgkEDES8Zpsu0g.Var-jmo-A9mZ8P9-6yYTWU72Mf7pyCUYX6UOnIqfIL0g.JPEG.011mins%2FKakaoTalk_20200602_115653079.jpg%23960x720\n",
      "https://search.pstatic.net/common/?autoRotate=true&type=h320_sharpen&src=http%3A%2F%2Fblogfiles.naver.net%2FMjAyMjA2MjNfMTE0%2FMDAxNjU1OTUzODkwNzkw.EpoJHyEm0YGcNwBDCH5KmSnmzafWmN5n3AzQype9ME8g.UHKXQtnA9PYliR7Szu5SmYJhBQFWeTFG7lzq7AqS__Yg.JPEG.redpig1000%2FSE-208a0266-8a72-4e46-86cf-cff20ca2bdc4.jpg%233000x2260\n",
      "https://search.pstatic.net/common/?autoRotate=true&type=h320_sharpen&src=http%3A%2F%2Fblogfiles.naver.net%2FMjAyMjA2MjNfMTgw%2FMDAxNjU1OTY1ODA3OTMy.nmWTFGtHWtpC572KpcqXaFZB4DhjidU7Es9pqLgOzaEg.z_am3vnlvz4RUe9iVlUpIRCdOLjW1sWWueXojHcYj2sg.JPEG.heeyeonkim%2F20211023%25A3%25DF175939.jpg%23900x675\n",
      "https://search.pstatic.net/common/?autoRotate=true&type=h320_sharpen&src=http%3A%2F%2Fblogfiles.naver.net%2FMjAyMjA1MjRfNTIg%2FMDAxNjUzMzYzMjI5NTM3.M1ykDvSmhPoeVbF-_J-izUOpjb225HIytVSONe1i6L8g.pAlq_Kii4gR654rgeftdhg-zY_KGjYdsRZkvIscOjy0g.JPEG.cjsqhtmf%2FIMG_2626.jpg%23900x900\n",
      "https://search.pstatic.net/common/?autoRotate=true&type=h320_sharpen&src=http%3A%2F%2Fblogfiles.naver.net%2FMjAyMjA0MjVfMjU5%2FMDAxNjUwODcyMjk5OTM0.SLyK3jsH9GSFbdHYgGkxZsqHP9SfBRVFDScZHhJVg3gg.TWitXmJCW0nQeJiqSe4MrA8yrc1mQuqGSnmMKH06mTkg.JPEG.oceanfilm%2F%25C1%25A6%25B8%25F1%25C0%25BB-%25C0%25D4%25B7%25C2%25C7%25D8%25C1%25D6%25BC%25BC%25BF%25E4_-001_%25288%2529.jpg%231280x720\n",
      "https://search.pstatic.net/common/?autoRotate=true&type=h320_sharpen&src=http%3A%2F%2Fblogfiles.naver.net%2FMjAyMjA4MDJfMTY5%2FMDAxNjU5NDE1MDY0OTI4.RmpLAxD5Xo_ZuAN9o5fhgYpKaEHb3_9xT4uYtmDlVp8g.4_odgPexOg3WzbzrVLbnfznfIABhcytw4AUGFxtEzwQg.JPEG.nan1225c%2F20220726%25A3%25DF121949.jpg%231200x900\n",
      "https://search.pstatic.net/common/?autoRotate=true&type=h320_sharpen&src=http%3A%2F%2Fblogfiles.naver.net%2FMjAyMTEwMTNfMTQx%2FMDAxNjM0MDUyNTI4MDkw.Q6K57rdui5gWah5k0UnV2ZzKocFXIEb-7vn6TrLt_60g.qhANHmVRgkLk9Wxx5orp4uHQ8T3nQZUlhXLQIUY7kW0g.JPEG.be-focus%2F20211008%25A3%25DF131823.jpg%23900x675\n",
      "https://search.pstatic.net/common/?autoRotate=true&type=h320_sharpen&src=http%3A%2F%2Fblogfiles.naver.net%2FMjAyMTA4MDFfMTc3%2FMDAxNjI3Nzc5MDM2Njcw.8DS5ITHqpIWZdbo_o_kRQiXc5w3h_Y7FVgqeF1m1R8gg.2uKkvCuoiA1Y6JI085DkJ1_NqS3HFnrDyXz9nkwKmHsg.JPEG.aosyddl%2F20210727%25A3%25DF134830.jpg%23900x675\n",
      "https://search.pstatic.net/common/?autoRotate=true&type=h320_sharpen&src=http%3A%2F%2Fblogfiles.naver.net%2FMjAyMjA4MjJfMjk4%2FMDAxNjYxMTc3MjM1OTI2.y10aCyvdF1RPPXQgK3pfyTw5SPUu5PC3MWEbKxJ_DxMg.q6JVZmV5mXOplhabpwNDmnAohi8OL40XzMChPc-m5qUg.JPEG.heej21%2FSNOW%25A3%25DF20220822%25A3%25DF230630%25A3%25DF798.jpg%23900x1200\n",
      "https://search.pstatic.net/common/?autoRotate=true&type=h320_sharpen&src=http%3A%2F%2Fblogfiles.naver.net%2FMjAyMjA4MDhfMjQz%2FMDAxNjU5OTI2OTI2Mzkw.kqixdZfMnYCPrK-VqFa02gC-XsD4ZW5-9R0T8sz_3OEg.whLGk-E8lOeLRmz2W2RjfOL0y2Xzql9DMH-Vi3pqEzMg.JPEG.hcho67%2FKakaoTalk_20220807_110031217_17.jpg%231080x1440\n",
      "https://search.pstatic.net/common/?autoRotate=true&type=h320_sharpen&src=http%3A%2F%2Fblogfiles.naver.net%2FMjAyMTA1MTJfNTYg%2FMDAxNjIwODA4MDk0MDg4.fFdL7CVswYB3ym3rTgXYE7BJ2l5AlgCL03DX_Un3uo4g._YMXXIEzCoNZwQxXIGvxEcyWJNewcZti7EvdRZLA-h0g.JPEG.tornado28%2F20210509%25A3%25DF170500.jpg%23900x1200\n"
     ]
    },
    {
     "name": "stdout",
     "output_type": "stream",
     "text": [
      "https://search.pstatic.net/common/?autoRotate=true&type=h320_sharpen&src=http%3A%2F%2Fblogfiles.naver.net%2FMjAyMTAzMDdfMjEz%2FMDAxNjE1MDQzMDM2OTE3.AvLYnqYmkJi-sQ-usa23_uAvVwSVevk9nZ05bxCkoqsg.ECTmtKnaJHn72oU4Jhz0DmyiVGNbLjiiIBj4nFzat5og.JPEG.lbm6053%2F20210306%25A3%25DF153804.jpg%23900x1200\n",
      "https://search.pstatic.net/common/?autoRotate=true&type=h320_sharpen&src=http%3A%2F%2Fblogfiles.naver.net%2FMjAyMjA2MTBfMjk2%2FMDAxNjU0ODMxNTUwOTUz.6BQ4fGe0g9aIKQ879q5H_lIDqtKcnEmwjIdbtvQ1gbEg.LFSpbiu8vJFRz5HTtUm_UBJouVmttBKY7bXg6GYZA-kg.PNG.namdokorea%2F%25BD%25E6%25B3%25D7%25C0%25CF.png%231000x1000\n",
      "https://search.pstatic.net/common/?autoRotate=true&type=h320_sharpen&src=http%3A%2F%2Fblogfiles.naver.net%2FMjAyMTA2MjhfMjI1%2FMDAxNjI0ODQ5ODU5ODkw.3PiwpqYKMX9tibpGERmONyT6iKKZw9AS7XQ1F9UDpzMg.ZG2fSIzK4CDSky0rp3V7Xw3gZyEZMPtCyRFJFLqOrQIg.JPEG.cc_kim%2FIMG_9198.JPG%23900x506\n",
      "https://search.pstatic.net/common/?autoRotate=true&type=h320_sharpen&src=http%3A%2F%2Fblogfiles.naver.net%2FMjAyMTA1MDdfMjM5%2FMDAxNjIwMzk0ODY1MTk4.akdvmVj2iA-PLEW9uePYKRP5TEBtqNOtsM2f0ipzHvAg.RJQZddLNDBQZSI2ukF_3dLHTy3z_kKIWebtXtSn4pqQg.JPEG.anhaelim%2Foutput_1971378522.jpg%23900x900\n",
      "https://search.pstatic.net/common/?autoRotate=true&type=h320_sharpen&src=http%3A%2F%2Fblogfiles.naver.net%2FMjAyMTA2MTRfMTA1%2FMDAxNjIzNjYxNjI4ODQ0.0c9-JOv5NFmEhO7IemQ9B9v56v9lAnj3Ct5C9qDjqu0g.VHnZOHlF6sejfqGRPVvg6ie3JZOHm1345cvsasDD8Wcg.JPEG.hchchch%2F20210612-DSC00590.JPG%231800x1013\n",
      "https://search.pstatic.net/common/?autoRotate=true&type=h320_sharpen&src=http%3A%2F%2Fblogfiles.naver.net%2FMjAyMjA4MDFfMTI5%2FMDAxNjU5MzUwNDE0MDQy.7VE7Iq2E9GMdVeCzVVq3JkTILHTnlB-f757QAHVuLdog.q3xgS0aA7zR6lOKoVb3ETUsgALvsq9tQFbMQc-6MGfMg.JPEG.jennyham273%2F20220801193952.jpg%23900x900\n",
      "https://search.pstatic.net/common/?autoRotate=true&type=h320_sharpen&src=http%3A%2F%2Fblogfiles.naver.net%2FMjAyMjA4MjNfMjAw%2FMDAxNjYxMjU4OTUzMjYx.x0-xH5fEmyZGivz_mE_lmvDYuJlV_X-11E_3wQrQ16cg.VrvAlDKmjrkGPiA_ve6BanJtQdWTP3Qd3Gvddja_Pckg.JPEG.eunhwa302%2FIMG%25A3%25DFPITU%25A3%25DF20220823%25A3%25DF214844.jpg%23900x900\n",
      "https://search.pstatic.net/common/?autoRotate=true&type=h320_sharpen&src=http%3A%2F%2Fblogfiles.naver.net%2FMjAyMjA2MTVfODIg%2FMDAxNjU1MjY3NzIzNDIw.PGVKUk2zsRRh9Dpuu1eLE77SEl4Y2ixWtnobtsoA7Gcg.bWH4fOE-w69h2rmN9h0Opw9GjZFbN53cJsjasxhbu3og.JPEG.zintea%2FKakaoTalk_20220607_102805019_14.jpg%231440x810\n",
      "https://search.pstatic.net/common/?autoRotate=true&type=h320_sharpen&src=http%3A%2F%2Fblogfiles.naver.net%2FMjAyMjA0MjFfMyAg%2FMDAxNjUwNTQ5MzQ0ODQ5.pq_EczwtVD7LevCCjBElzovKsnNJXbgwMiadDGtuYKAg.p7s-BdBPGE_c95KBkfzT8W_zhmI9V5-_GgM6N4crPO4g.JPEG.saysay1987%2FIMG_8593.jpg%23900x1200\n",
      "https://search.pstatic.net/common/?autoRotate=true&type=h320_sharpen&src=http%3A%2F%2Fblogfiles.naver.net%2FMjAyMTEyMjFfODEg%2FMDAxNjQwMDk2MjkxNTg5.pYa_tORL5C0xhhCH36g8ZMa-CnoRWMEVJJ7CgCtqDgwg.jg7dMQzeTkriTw0eL4Epae04H7jNERw0a-NhpJTB_zQg.JPEG.outofgear%2FIMG_0951.JPG%233024x4032\n",
      "https://search.pstatic.net/common/?autoRotate=true&type=h320_sharpen&src=http%3A%2F%2Fblogfiles.naver.net%2FMjAyMjA1MjJfMTgw%2FMDAxNjUzMjI3MzE3OTM0.UOoYu-s0kGFoxQlRsNC3RyZRvO8NC2pjgfVZf0epp5Qg.ASzmhdzA3i6-wR43tawRF4KrTckLjme3GxJNUtwuGDwg.JPEG.aaaq_12%2F20220522%25A3%25DF175053.jpg%23900x675\n",
      "https://search.pstatic.net/common/?autoRotate=true&type=h320_sharpen&src=http%3A%2F%2Fblogfiles.naver.net%2FMjAyMjA3MjFfODUg%2FMDAxNjU4MzgwNTEyMTEw.L_O6RYRQkGCVDZvwKaw1ig7fHnolnOcXQdaef0z-SS0g.hUeoaLKSV9GWk6SUJ-yt69sRMDz_jjLuRWTpWbuYaoEg.JPEG.qpscm400%2F6V9A5372.JPG%235472x3648\n",
      "https://search.pstatic.net/common/?autoRotate=true&type=h320_sharpen&src=http%3A%2F%2Fblogfiles.naver.net%2FMjAyMjA3MTVfMjcz%2FMDAxNjU3ODQ2OTg3MDkw.VawvHL_j1oOe9mu524ZseC4-lNfiT-z0BVb07hq4qBgg.APwY23fyAqdRXL-sbSXF2jFLqlDOPO6U-ZUQI4xCm9Ig.JPEG.smpark840129%2F202205210848.JPG%235472x3648\n",
      "https://search.pstatic.net/common/?autoRotate=true&type=h320_sharpen&src=http%3A%2F%2Fblogfiles.naver.net%2FMjAyMjA2MTVfMTYx%2FMDAxNjU1MjI0NDk1Mjgw.dWXul3SLSqONsn821jP6HSYKD78_Rc23GlLg8DUcoFcg.P-Jes6Q0o6ECok72oaJNS2P45zcCYqxGUXzXA4_7K3Yg.JPEG.motogressive%2Fimg_l.jpg%231199x800\n",
      "https://search.pstatic.net/common/?autoRotate=true&type=h320_sharpen&src=http%3A%2F%2Fblogfiles.naver.net%2FMjAyMjA3MjRfMTAz%2FMDAxNjU4NjQyNDEwMjEz.ZxqWz0D_9m8ejSGFkifz0UbfAUbq4emhlbw-sQPEEKYg.r7xal0Qo6JDr3NbK0e0JXapQ7JG3cDx0a6lOxr3nI3Eg.JPEG.minsigong%2FSGM00736.jpg%233500x2333\n",
      "https://search.pstatic.net/common/?autoRotate=true&type=h320_sharpen&src=http%3A%2F%2Fblogfiles.naver.net%2FMjAyMjA1MjVfMjQ2%2FMDAxNjUzNDUxNjEwNjcx.Rj0t7IaIfXsTmsmIcHGBoWsafLRC_hpBeA3OBWQGTTwg.idmntolM43qlVgLSLwOLlKbihGu0vA60u5s10ttykpog.JPEG.qpscm400%2F2R_%25C7%25C7%25C6%25AE%25BD%25BA%25C5%25E9_CJ%25B7%25CE%25C1%25F6%25BD%25BA%25C6%25BD%25BD%25BA_%25B7%25B9%25C0%25CC%25BD%25CC1.jpg%232000x1333\n",
      "https://search.pstatic.net/common/?autoRotate=true&type=h320_sharpen&src=http%3A%2F%2Fblogfiles.naver.net%2FMjAyMjA3MTZfMTg5%2FMDAxNjU3OTUzNDYyMDQ2.Ek0SN1PTNHuScrf5uJMEZJ_dAQjtDei6a3VJaRZ7Lxkg.ebpHEl9vFLI01Fkgiv7HwQjqQ_tB9vG-TsPOD5YJMN4g.JPEG.saysay1987%2FIMG_5275.jpg%23900x1200\n",
      "https://search.pstatic.net/common/?autoRotate=true&type=h320_sharpen&src=http%3A%2F%2Fblogfiles.naver.net%2FMjAyMTExMDlfMTQy%2FMDAxNjM2NDQ5OTc2ODEw.rDjCwp5S_XpvdHNicMjhbkLl-ezsFw8nOQ844SUQKDAg._u0JLSuTbrLOGhadcmwVNdn4ZQlx39U1rhqZMVXiNQIg.JPEG.kye9413%2F1636449976619.jpg%23679x453\n",
      "https://search.pstatic.net/common/?autoRotate=true&type=h320_sharpen&src=http%3A%2F%2Fblogfiles.naver.net%2FMjAyMTA4MDRfMjU5%2FMDAxNjI4MDYzMDg5Mjk5.1KhlajwhBBKuSZbQJdSFAiHRmVy7SSNGUW7Z0HRYvaAg.CW71AUAhmMpXiKlL8ZGr0AV_VNt_15cTLQknzMT1cX4g.JPEG.even28%2FKakaoTalk_20210803_153550578_01.jpg%23600x450\n",
      "https://search.pstatic.net/common/?autoRotate=true&type=h320_sharpen&src=http%3A%2F%2Fblogfiles.naver.net%2FMjAyMTAzMTlfMjM0%2FMDAxNjE2MTI4Mzc5OTIy.aDqcYOQj3pUe3cjYyhmpGAUkmmymhEZK8SL6DJLfjMsg.bvtrgyppuykkERkx5t7MgfPVxBLkrPHWhh0sIjTKwtMg.JPEG.onew_5525%2FIMG_5238.jpg%23900x900\n",
      "https://search.pstatic.net/common/?autoRotate=true&type=h320_sharpen&src=http%3A%2F%2Fblogfiles.naver.net%2FMjAxOTA5MjFfMjMx%2FMDAxNTY5MDMxOTMwODg3.3l-fcoANKGbrd8qFhUWMRVy-PYtAmIsTK2ctSL0Azuog.1S6xIqheJWs_AJ23-JKAn_ysd1S2Zklz_J-aGarLTSkg.JPEG.pwoong99%2FIMG_5561.jpg%231024x768\n",
      "https://search.pstatic.net/common/?autoRotate=true&type=h320_sharpen&src=http%3A%2F%2Fblogfiles.naver.net%2FMjAyMjAyMDJfMjY5%2FMDAxNjQzODA1OTI1NTUz.aY5kYWOw7rp0pE8I5FXW5b0E6iYqsiJFsL5lJTSXVzEg.nTu8EV2j_FQGjcqwLXcpJXI9e13tBf7Bw0Gy2oe3-9Ug.JPEG.yann13%2FBGH_1549.jpg%232400x1597\n",
      "https://search.pstatic.net/common/?autoRotate=true&type=h320_sharpen&src=http%3A%2F%2Fblogfiles.naver.net%2FMjAyMjA4MjFfNDgg%2FMDAxNjYxMDg4NDk0NTU2.ukcgWYq-kVVIFp1dPwjnheK1KabyYxSkLDOautJAuWkg.90rt48eGSbWnud9bGkxaYbz8iN9p6pJ-mJooeNzds5Yg.JPEG.ldy_530%2F20220820%25A3%25DF162208.jpg%23900x1200\n",
      "https://search.pstatic.net/common/?autoRotate=true&type=h320_sharpen&src=http%3A%2F%2Fblogfiles.naver.net%2FMjAyMjA4MTlfNiAg%2FMDAxNjYwOTE0MzU4MDM1.aX_bmJ7qEo3UesVOAyiGjh2SCqYaPB7KKg-wGhTTjrQg.xM5KBphbN40Q95MwlgLVVv-aTD5-086aVKM9G0s1byMg.JPEG.photojenic%2FIMG_5913.jpg%23900x674\n",
      "https://search.pstatic.net/common/?autoRotate=true&type=h320_sharpen&src=http%3A%2F%2Fblogfiles.naver.net%2FMjAyMjA3MTJfMjI2%2FMDAxNjU3NjMzMjY4NTg5.pH0aKUHYuhYzoAhQ7Q49LIaydPfgpBa-60O1nYEkDo4g.t4AUeLPoSWYkqaWM-6xRYrpAPOhfJMojxKGxltCKAHUg.JPEG.wlghpp%2F20220709_121934.jpg%234000x3000\n",
      "https://search.pstatic.net/common/?autoRotate=true&type=h320_sharpen&src=http%3A%2F%2Fblogfiles.naver.net%2FMjAyMjA3MTNfNzIg%2FMDAxNjU3Njg5ODA4NjI2.MqoWBMrzqz3d9wMqSddZIDjSmNPryV1Tn5KY4eB2dUcg.Mze1lng4rvTeSPPv0fMpmfgH2Gcdo7LXDZu8zFfAJjMg.JPEG.nice5763%2F20220710%25A3%25DF111055%25A3%25DF01.jpg%23900x675\n",
      "https://search.pstatic.net/common/?autoRotate=true&type=h320_sharpen&src=http%3A%2F%2Fblogfiles.naver.net%2FMjAyMTExMDJfMTg2%2FMDAxNjM1ODE1MTI0ODgz.FkqV2nryZiYaxQS_kP3_6PKrbqroweG_os21LLufWTYg.8lJpuCDIfsp9ShYTkqPfme8SzaD68DthUpqaa4faeLMg.JPEG.namdokorea%2F%25C0%25FC%25B3%25B2%25B0%25FC%25B1%25A4-%25C0%25CC%25B4%25DE%25C3%25DF-%25BD%25E6%25B3%25D7%25C0%25CF-02.jpg%231350x1350\n",
      "https://search.pstatic.net/common/?autoRotate=true&type=h320_sharpen&src=http%3A%2F%2Fblogfiles.naver.net%2FMjAyMTExMDJfMTA0%2FMDAxNjM1ODE2NDg5MDg0.0qbJug8trgYPAFt-DDvg0BcDl_pWUtL_rhwZ2B_nG0wg.Y0ANvO7Ec-DLDhHFqE3A1M9UiCQ8NImVT6cK5ScnYLog.JPEG.namdokorea%2F%25C0%25FC%25B3%25B2%25B0%25FC%25B1%25A4-%25C0%25CC%25B4%25DE%25C3%25DF-%25BB%25EA%25C3%25A5%25BF%25A9%25C7%25E0-%25BD%25E6%25B3%25D7%25C0%25CF-%25BF%25B5%25BE%25EE.jpg%231350x1350\n",
      "https://search.pstatic.net/common/?autoRotate=true&type=h320_sharpen&src=http%3A%2F%2Fblogfiles.naver.net%2FMjAyMTExMDJfMTc5%2FMDAxNjM1ODI1NDEyMTU1.YhcUBiBC0a7tHpDLK8N3VvyBXaj3i-MdrLdhPDY_cJ8g.LUo5JAPuUjeQfZkSQRUUbuY4a6asXgSLBLAw1XH5rVIg.JPEG.namdokorea%2F%25C0%25FC%25B3%25B2%25B0%25FC%25B1%25A4-%25C0%25CC%25B4%25DE%25C3%25DF-%25BB%25EA%25C3%25A5%25BF%25A9%25C7%25E0-%25BD%25E6%25B3%25D7%25C0%25CF-%25BA%25A3%25C6%25AE%25B3%25B2%25BE%25EE.jpg%231350x1350\n"
     ]
    },
    {
     "name": "stdout",
     "output_type": "stream",
     "text": [
      "https://search.pstatic.net/common/?autoRotate=true&type=h320_sharpen&src=http%3A%2F%2Fblogfiles.naver.net%2FMjAyMjA3MjRfMjQ0%2FMDAxNjU4NjY3Nzk3MjM1.czqBp1Y-6S4eUHcg72XCqrO3pjKeC7ZWV2IsrFh_Iw4g.UQzX6z4hmmbwT5rsoh5klY8tA0FFVrsrSWw0ZOdDVgsg.JPEG.adorableble%2FIMG%25A3%25DF6828.jpg%23901x782\n",
      "https://search.pstatic.net/common/?autoRotate=true&type=h320_sharpen&src=http%3A%2F%2Fblogfiles.naver.net%2FMjAyMjA3MTFfMjky%2FMDAxNjU3NTE4Mjc0NjU3.Zfoi4BssitiTsg7hysn56QFmMKg6dy_lqSOE5dPT5_Ig.nm6Hpj3kBWxHTxJPYUJ29sHKhCGAeO8iFYsW_gB7MMYg.JPEG.wlghpp%2F20220709_134144_1.jpg%232837x3882\n",
      "https://search.pstatic.net/common/?autoRotate=true&type=h320_sharpen&src=http%3A%2F%2Fblogfiles.naver.net%2FMjAyMjA2MTVfMTAg%2FMDAxNjU1Mjc2NTEwNzY3.33ia7QfGmZN7hkmu-RiWEUQyeZcJP8Jnl4FCU-CUt_0g.iRBsmMarhXK4r68ylw4BQj_qfnIVbFGoTya-K-v366sg.JPEG.dalkis220%2Foutput_2616968542.jpg%23740x556\n",
      "https://search.pstatic.net/common/?autoRotate=true&type=h320_sharpen&src=http%3A%2F%2Fblogfiles.naver.net%2FMjAyMjA4MjRfNTcg%2FMDAxNjYxMjY2OTY1NDAw.JBL1_OtLpzSKfW5rQ5XESQ-dBWIKFY2hRAvX-Ig5ENYg.exb3-FIlJoPl_O95t6wvAFyKGxVNAZuMh_iOHfRUDDQg.JPEG.thdud0067%2F20220812%25A3%25DF140351.jpg%23900x675\n",
      "https://search.pstatic.net/common/?autoRotate=true&type=h320_sharpen&src=http%3A%2F%2Fblogfiles.naver.net%2FMjAyMTA5MjZfOTYg%2FMDAxNjMyNjE3NzU3NDgw.LzyU1NKHPcIb3yKXUtLAA3QEYxgeoCR3xwsEfwdBlXog.YdLSq2nQ082Vw6sZmKUhiUIdvLV6cVK7RLZ7IJWYACEg.JPEG.kyee28%2FIMG_0641.jpg%23900x1200\n",
      "https://search.pstatic.net/common/?autoRotate=true&type=h320_sharpen&src=http%3A%2F%2Fblogfiles.naver.net%2FMjAyMjA4MTBfMjk2%2FMDAxNjYwMTE3NjAyMzA3.t9qrEUvVdhUW8SdmGU5eUlrPT20ugkDU7_nfvHbei_4g.6Frx2_J3PHaUV63rAVlGn8z5qDGNw-VY8GJwxmhw5Twg.JPEG.dkdlfhd%2F20220729_143006.jpg%232992x2992\n",
      "https://search.pstatic.net/common/?autoRotate=true&type=h320_sharpen&src=http%3A%2F%2Fblogfiles.naver.net%2FMjAyMTA3MTdfMTA2%2FMDAxNjI2NTE0Njg2NjE1.iWbJLKYah_hvvuR1-hKbovOzdEzOs09dL7sF6ckQZhEg.dx7clYLf0lIuZ79tYA4xg_3eO-u3YbbTSPc6MzIGl9sg.JPEG.yksprince75%2F20210717%25A3%25DF134438%25A3%25DF274.jpg%23900x675\n",
      "https://search.pstatic.net/common/?autoRotate=true&type=h320_sharpen&src=http%3A%2F%2Fblogfiles.naver.net%2FMjAyMjA4MjJfMjg0%2FMDAxNjYxMTcxNDIyOTE5.LtB53r8xZXP2jySFvSUz0oAoAWzVXU4O0N7K97jbYcog.ea18hlU_OdgW0K-rGGJ91nAQ8GGwHYAuo3CaAy9-iXgg.JPEG.sta950414%2FIMG_8492.JPG%23900x1200\n",
      "https://search.pstatic.net/common/?autoRotate=true&type=h320_sharpen&src=http%3A%2F%2Fblogfiles.naver.net%2FMjAyMTA4MTVfOSAg%2FMDAxNjI4OTg3NzY2OTk0.frb9RIRrsjsy5_CuHZwCQVe_he_s9bQVq55-lpz49zsg.CkbL4-mHbY2fgYFmurj9pCzAW2KqI49ZcsEBPI-xaCAg.JPEG.hnu06024%2F20210814_092641.jpg%233000x2250\n",
      "https://search.pstatic.net/common/?autoRotate=true&type=h320_sharpen&src=http%3A%2F%2Fblogfiles.naver.net%2FMjAyMTA3MDZfMjY2%2FMDAxNjI1NTc3NTQyMTgw.Mo-tFAIWAA1qJfI0P84WK1AyNr3CMrGk-a1Kgp3p7a4g.mjN89z_Aq0MItSekTg7hBxbD-kiUsLjUR1k1IfwfWv4g.PNG.sangsrunchin%2F%25BC%25B1%25C7%25B3%25B1%25E2_%25B8%25AE%25B8%25F0%25C4%25C1-20.png%23900x1200\n",
      "https://search.pstatic.net/common/?autoRotate=true&type=h320_sharpen&src=http%3A%2F%2Fblogfiles.naver.net%2FMjAyMjA4MDRfMTE4%2FMDAxNjU5NTc2ODAwNDMx.4i3EquT3vBZ4oFTc_6TTXwsKbBuCGR5qxciQvcImeEog.rehCfsbFQlAtCrGVU_20h8fVZy-SWZ4Ml8eNt533ngwg.JPEG.godqhrgkwk012%2FIMG_4910.jpg%23900x674\n",
      "https://search.pstatic.net/common/?autoRotate=true&type=h320_sharpen&src=http%3A%2F%2Fblogfiles.naver.net%2FMjAyMDA4MDRfMjQ2%2FMDAxNTk2NTI3ODkwMzgw.MvlXKwDq5HMe-j7P4CetH3oKF6kUVLdPXkrEHAPGoswg.Dz5aYPTs0fFPxHhXh7fr7l5DS4broiTlRbO--V--AnEg.JPEG.zeropop0%2FP1370205.JPG%234480x2520\n",
      "https://search.pstatic.net/common/?autoRotate=true&type=h320_sharpen&src=http%3A%2F%2Fblogfiles.naver.net%2FMjAyMTA4MDNfMjAw%2FMDAxNjI4MDAxODczNDU2.mCl8gJALSgOCzUFZCHoamNFqq1GoVJeHVvNsZUvOHvMg.A2k3mqNpUps2FqZNDF_Mq5NFkAfZTf_dFyTgM-3civUg.JPEG.reinia11%2F%25BC%25B3%25BA%25F9-8452.jpg%233000x1996\n",
      "https://search.pstatic.net/common/?autoRotate=true&type=h320_sharpen&src=http%3A%2F%2Fblogfiles.naver.net%2FMjAyMTA3MjJfMTc0%2FMDAxNjI2OTM3MzgzNTc4.Elf1jIC4f1k5iL1pIT_VKa2_evIaf597p3n8qLZZIDwg.GN5uHS0-EN64XHh1fYV5571q3qsmNnbsOj42lTSbWHwg.JPEG.kby217%2F2%2528%25B4%25EB%25C7%25A5%25BB%25E7%25C1%25F8%2529.jpg%231280x960\n",
      "https://search.pstatic.net/common/?autoRotate=true&type=h320_sharpen&src=http%3A%2F%2Fblogfiles.naver.net%2FMjAyMTA4MDJfMjEy%2FMDAxNjI3ODYzNTc2NTgz.bmOuBBiV6JtDMC4-oaUVKsVJJ896_PNhxNdtnzNhpBsg.1XbdODsX6gWDU5yD7BZkvaAYYSiF7EpHUmwmV-95HAMg.JPEG.dpdhs401%2F7.jpg%231440x1080\n",
      "https://search.pstatic.net/common/?autoRotate=true&type=h320_sharpen&src=http%3A%2F%2Fblogfiles.naver.net%2FMjAyMTA1MzFfMTY4%2FMDAxNjIyNDY0NTAxOTU5.0y_4yawkfaaJnUJohl9nFAo_2TU7kcwy4tmUpaaQ-tIg.NaPLvAsXm3Dj-F8f4C8lqTmQAc8yoFSxpejAkZ2rTDog.JPEG.tornado28%2F20210530%25A3%25DF175608.jpg%23900x1600\n",
      "https://search.pstatic.net/common/?autoRotate=true&type=h320_sharpen&src=http%3A%2F%2Fblogfiles.naver.net%2FMjAyMjAzMjlfNiAg%2FMDAxNjQ4NTYyMDcwMjEy.AVjuJJveYjm6r7HvG_ZvItGVz88SEJ_EJFZ20s3qVDAg.B4_dtz3ZxooyogOw0IgmMFH5S1kuoz7QAkoYiXfWHj0g.JPEG.jihyelee92828%2FIMG_6334.jpg%23900x1200\n",
      "https://search.pstatic.net/common/?autoRotate=true&type=h320_sharpen&src=http%3A%2F%2Fblogfiles.naver.net%2FMjAyMjAyMjhfMjQ1%2FMDAxNjQ1OTc0MTk5NzQy.sPpWSlOhj_mSazRG7wY4QFz3NE-FfogoLQ7dI8VXEbwg.iei86cRGfRASxPeNIh6EBaq88PO-VpDdpNYGxSPp2vcg.JPEG.yeong_pd%2Foutput_1158674305.jpg%23602x866\n",
      "https://search.pstatic.net/common/?autoRotate=true&type=h320_sharpen&src=http%3A%2F%2Fblogfiles.naver.net%2FMjAyMTAzMjhfMTAy%2FMDAxNjE2ODk2Mzc2MjQw.E5B3gFfm_u04z-VQi14iYR_mHdDggq6mdXbM2R0_ceIg.CKzHMFAkjVu2wnKEl-s8L5qp5giMI1Se_ymEheWa8Q4g.JPEG.dbfyzjavbxj%2FIMG_3460.jpg%23900x1200\n",
      "https://search.pstatic.net/common/?autoRotate=true&type=h320_sharpen&src=http%3A%2F%2Fblogfiles.naver.net%2FMjAyMTA3MThfNDUg%2FMDAxNjI2NjEyNzU1NjU3.VhhzZdtmVY9ztznVK7Xq-kA302pFLgK8yFo-hvu2wWcg.W3SjoaA2fhzZsVJgKntF31JlwTvZJEkOh02AJn08xUYg.JPEG.woody3363%2FIMG_0192.JPG%23900x674\n",
      "https://search.pstatic.net/common/?autoRotate=true&type=h320_sharpen&src=http%3A%2F%2Fblogfiles.naver.net%2FMjAyMTEyMDhfMjMg%2FMDAxNjM4OTM5MTM0NDE1.6aj2s4gyQqjA-M3QccDpmT7l9KH1hjrrBGKDCPs8b2sg.h-tkrg6WyXYIkm0TB55-tU6WNveNrYwcLDzZi7lAXUEg.JPEG.greenjeonnam%2F1.jpg%231000x1708\n",
      "https://search.pstatic.net/common/?autoRotate=true&type=h320_sharpen&src=http%3A%2F%2Fblogfiles.naver.net%2FMjAyMTExMTZfMzQg%2FMDAxNjM3MDI3MTgxMjI0.KzpUXKQXvIQCVDf9PnJ2MNDC2gf_I0Crq30lbIlnai4g.mwhgyanCntWP1PSTkbfSllV6GhSfpan5yuqFAimyqHsg.JPEG.jungyi97%2Foutput_4231353722.jpg%23900x900\n",
      "https://search.pstatic.net/common/?autoRotate=true&type=h320_sharpen&src=http%3A%2F%2Fblogfiles.naver.net%2FMjAyMTEwMTBfMTA1%2FMDAxNjMzODU1MTg1NDY5.IGtzxlOp_Nk_Q0GGOj6Hs1EFYe1SfwMzuw6zfOZCJPog.00h0x_PkXEhWgg7mKdpR-nQ0n2m8ukeb2pN4-axBUMog.JPEG.eliza0259%2F20211010_095022.jpg%234608x3456\n",
      "https://search.pstatic.net/common/?autoRotate=true&type=h320_sharpen&src=http%3A%2F%2Fblogfiles.naver.net%2FMjAyMTAyMjNfMTQx%2FMDAxNjE0MDUxOTQ5NDU0.eNoy6ad67tyfkR7WPwlgc-Xpx5_VaGUCDaStrTi1aXMg.exJFgF-E_McExTaerabjp_xR6JvjoXNieJeY4RCVRi8g.JPEG.huhasim%2F%25BA%25ED%25B7%25CE%25B1%25D7%25BD%25E6%25B3%25D7%25C0%25CF_%252813%2529.jpg%23600x600\n",
      "https://search.pstatic.net/common/?autoRotate=true&type=h320_sharpen&src=http%3A%2F%2Fblogfiles.naver.net%2FMjAyMDAzMDZfMjQ4%2FMDAxNTgzNDQ4NzE3NTI2.QeI9kY0_eE5dGniinyVxegLJJlyjPQAujtNTiVkMjhsg.1WvUPZhVV4y9VGJPtgAis6ocREFL8m9yBOpPTAOZu9Ig.JPEG.fing1225%2F1583448717226.jpg%23720x405\n",
      "https://search.pstatic.net/common/?autoRotate=true&type=h320_sharpen&src=http%3A%2F%2Fblogfiles.naver.net%2FMjAyMDExMTNfMTY1%2FMDAxNjA1MjQ2Mjk0NDY1.LAjVII8MrLNHHETdXN1McjykaI2-MxgHJMz5bAfUxjMg.e1R_Rka9N0AzNPLSK4F-LX4JohvkPNG2j4UbgLGzsXog.JPEG.ky0v0%2FE0607F71-46DC-492C-9D5D-3768F9F757A5.jpeg%233024x3024\n",
      "https://search.pstatic.net/common/?autoRotate=true&type=h320_sharpen&src=http%3A%2F%2Fblogfiles.naver.net%2FMjAyMjA4MDdfMjk2%2FMDAxNjU5ODc5NzI5NDY3.1tzyz9i-EyFwePH8evhdd7m4kcPHdjp1obfJ7WUw89og.JJM9nCJC72CjHXKlfdWPtpaf9HRPNHR4VUfvlASZsQkg.JPEG.kimsun5306%2FIMG_4945.JPG%23900x900\n",
      "https://search.pstatic.net/common/?autoRotate=true&type=h320_sharpen&src=http%3A%2F%2Fblogfiles.naver.net%2FMjAyMjA3MjdfMTgg%2FMDAxNjU4ODUwMTgyMjQx.wmDQesTGSHr2nx9T7uCOZo48yMSaPISARDWGtDZkJYwg.-hYb3G8KzG0-9Lt9WByqZ7bXwC6JpISpjHs37Y9YRRIg.JPEG.qldkdl3525%2FIMG_1764.JPG%233024x4032\n",
      "https://search.pstatic.net/common/?autoRotate=true&type=h320_sharpen&src=http%3A%2F%2Fblogfiles.naver.net%2FMjAyMjA1MjNfMTUw%2FMDAxNjUzMzE2ODgwNDY5.IpBTWeBA4GnJa6lAknDmtFd8v0i3Rv-5UVsVbImNkiYg.vAwS0lez29UlyuCJAd4k9nDia7sRuWVuNmVh1wzIRm8g.JPEG.saja16%2F20220521%25A3%25DF154034.jpg%23900x755\n",
      "https://search.pstatic.net/common/?autoRotate=true&type=h320_sharpen&src=http%3A%2F%2Fblogfiles.naver.net%2FMjAyMjA2MjRfMTkg%2FMDAxNjU2MDYxMzc4NTQ0.X7R6rLHM8fto6BBHYPyHv6vx_tNpnmnJBP7tgdZvLpwg.S_Oq8H0gQ-hXbRikVkh5PYzmnNVQGRLZQgS9tpeJcPYg.PNG.yse028%2Fimage.png%232139x2139\n",
      "https://search.pstatic.net/common/?autoRotate=true&type=h320_sharpen&src=http%3A%2F%2Fblogfiles.naver.net%2FMjAyMjA2MTJfMjc3%2FMDAxNjU0OTYyNDc5MjQ4.imcSiiFx0TemfBjTgJsG3Cyb_0ZpYjSvBWGWj-N2xBIg.YD8PaQSsKF13AdS-LyoT-Q7uUOnvSU0uM75PARWCkD8g.JPEG.hheltia%2F20220611%25A3%25DF151853.jpg%23900x675\n",
      "https://search.pstatic.net/common/?autoRotate=true&type=h320_sharpen&src=http%3A%2F%2Fblogfiles.naver.net%2FMjAyMjA1MDlfMTE5%2FMDAxNjUyMDgxOTkyNjM4.XdmBsf-mgQshylPNqePc2ISJZDs22ptdEgI5C5QysvIg.ElQfUcgg6phVmx23kTNXEghjvRVamkQPiMpBbatdGvUg.JPEG.years2100%2FKakaoTalk_20220503_165319659.jpg%233000x2250\n",
      "https://search.pstatic.net/common/?autoRotate=true&type=h320_sharpen&src=http%3A%2F%2Fblogfiles.naver.net%2FMjAyMTExMTZfMTg3%2FMDAxNjM3MDI1MDY2MjEw.WXulVAp5PHLYchwETsMF_-TZ9KpIJXN9Wg27BuXSwtcg.PtSrnC5eGyLD6ESIXoOBLHSYUwFG-JGqPKIimpQLSN4g.JPEG.ojs911120%2FIMG_0177.jpg%23900x674\n",
      "https://search.pstatic.net/common/?autoRotate=true&type=h320_sharpen&src=http%3A%2F%2Fblogfiles.naver.net%2FMjAyMTEyMDRfMjc1%2FMDAxNjM4NjIzODMwODE0.65XOGjY1Doz-rIPlKUALeM1i1uNBltnM24WRmIeBZ08g.er3jesY-5aGh7r33iQHU9oODncBYhWNBKBx0nEfhInMg.JPEG.dnwndydtk%2FIMG_4622.JPG%23900x900\n",
      "https://search.pstatic.net/common/?autoRotate=true&type=h320_sharpen&src=http%3A%2F%2Fblogfiles.naver.net%2FMjAyMTA5MjBfMTE0%2FMDAxNjMyMTI3MTQzNTcz.Wqn35Pw8DtflAoh-w6dDgRFTCOvEz0-l_2vQjTIkgtcg.Gv_tQGSCF33nRru8FWe-CnSX5Dbrjqda3WFPulWpOiMg.JPEG.chlektha422%2FIMG_9396.jpg%23900x1200\n",
      "https://search.pstatic.net/common/?autoRotate=true&type=h320_sharpen&src=http%3A%2F%2Fblogfiles.naver.net%2FMjAyMjAzMTRfMjI1%2FMDAxNjQ3MjYxMDU4ODQy.NQVQQLeYlymA0_Aegh8KWwv-mH7-oSIRpJqQUsP9NmYg.RtjHH_eozZKxsLiCMX2-jN5oMzyQmTJyD_2PH17VtyQg.JPEG.chinahousejj%2F20220309_154220.jpg%234032x3024\n",
      "https://search.pstatic.net/common/?autoRotate=true&type=h320_sharpen&src=http%3A%2F%2Fblogfiles.naver.net%2FMjAyMjA2MzBfMTc1%2FMDAxNjU2NTc1MjUzMzMx.yOh2YAij4ntLjfs65kuoFOf0E4J-qTxfPCVBeGKtoekg.9Wtr0gAzdWbPfthjkT2AOznH955ntBLLCXarBh4M_j8g.JPEG.kongi75%2F20220630%25A3%25DF160330.jpg%23900x1200\n",
      "https://search.pstatic.net/common/?autoRotate=true&type=h320_sharpen&src=http%3A%2F%2Fblogfiles.naver.net%2FMjAyMjA1MDVfNCAg%2FMDAxNjUxNzQwNTI3NDQ0.TZHAFcPVJBfzZMswWtwkc8u2v0_cRGSL15Ia2dg2Fqsg.ZeQhNZCNzn9guG1q3iGhgX1WvhBL0wT6xMM56O00W4wg.JPEG.nobleland114%2F20220505_101%25BA%25EA%25B8%25B4%25C1%25F6_%25286%2529.jpg%232250x3000\n",
      "https://search.pstatic.net/common/?autoRotate=true&type=h320_sharpen&src=http%3A%2F%2Fblogfiles.naver.net%2FMjAyMTExMDdfMTYz%2FMDAxNjM2MjYzODY3NjE2.SP67y6eYk3sbbk6ENm8yWuflaomHeD6dW2eqn1DKP-0g.6GHJ_diau8eeFg9oZfU-MUVQMJeikeJpHIh6VQYuE7sg.JPEG.biozma%2FIMG_4381.jpg%23900x1200\n",
      "https://search.pstatic.net/common/?autoRotate=true&type=h320_sharpen&src=http%3A%2F%2Fblogfiles.naver.net%2FMjAyMjAxMjVfMTY5%2FMDAxNjQzMDczMjkzMzM4.5tbxfzPy1jBDmBk7L_O2qfB91NFP0Hpq1oVUj5xgzZAg.MQQrnjuo5zrzOzYQL4aBbj03FBTGpiMvcL4YuTkORV4g.JPEG.10moozi%2FKakaoTalk_20220125_101216484_17.jpg%231440x1080\n",
      "https://search.pstatic.net/common/?autoRotate=true&type=h320_sharpen&src=http%3A%2F%2Fblogfiles.naver.net%2FMjAyMjA3MjNfNTgg%2FMDAxNjU4NTY1MTY0MjA1.zporo2Qi1gbnpZRVqFhsQuAm-Wxyid8NenIfo-l072Yg.CSqhH_iQVtzRjUiCff4MUUQJwOakJek5ciwbzGZCLb0g.JPEG.animati50%2Fse%25A3%25DFone%25A3%25DF20220723%25A3%25DF172840%25A3%25DFa.jpg%23900x1200\n",
      "https://search.pstatic.net/common/?autoRotate=true&type=h320_sharpen&src=http%3A%2F%2Fblogfiles.naver.net%2FMjAyMjA3MDhfMjE5%2FMDAxNjU3MjU2ODczMzg0.vP542aBzrLL5tLQmpVclLOr14_soO7tBgyF1WdmqI6wg.DxFT7ppMqKtsxzbHqPaE8gSyUIslNQRb-SyYAwISptcg.JPEG.ggoingmom%2FIMG_9796.jpg%23900x506\n",
      "https://search.pstatic.net/common/?autoRotate=true&type=h320_sharpen&src=http%3A%2F%2Fblogfiles.naver.net%2FMjAyMjA1MTZfMjY1%2FMDAxNjUyNjk3NzQ2Mjgw.e4iALGcX7OxsWUfuvRKRVma9iV_o9CROFuCHa3I_OYMg.iE7TyZ6hv--YepaFUCgBCpuqrY7enONnswZ6d7Kc71cg.JPEG.pomie84%2F0e31c817d6bc468d40417625a258cc6f.jpg%23900x596\n",
      "https://search.pstatic.net/common/?autoRotate=true&type=h320_sharpen&src=http%3A%2F%2Fblogfiles.naver.net%2FMjAyMjA1MDZfMTcg%2FMDAxNjUxODA4NzQ5MjA4.cqohsTNc3FhkphQGogAxDQHpcgB1hHEhLspWOq9hN30g.jbLlyYx9PNtapRypzOEJzHQZxC4pGwicef4vlYFyWLQg.JPEG.cobevince%2FKakaoTalk_20220505_225405322_21.jpg%233000x1688\n",
      "https://search.pstatic.net/common/?autoRotate=true&type=h320_sharpen&src=http%3A%2F%2Fblogfiles.naver.net%2FMjAyMDA2MTRfNzAg%2FMDAxNTkyMTM5MjUyNzYw.OWoQQ86eCtxAfLfxTGxVSdn9Im6D9t5_em9ogNyaW0Ig.0bYugKcMYjv59FGYg3jfpcr2orApEOSBJhGeFcavxKkg.JPEG.kakaohaedong0115%2FIMG_9040.JPG%235472x3072\n",
      "https://search.pstatic.net/common/?autoRotate=true&type=h320_sharpen&src=http%3A%2F%2Fblogfiles.naver.net%2FMjAxOTExMDJfMjQ3%2FMDAxNTcyNzAzNzQ1MTI2.yPGWWwDKSR2I2KL8dpnPhrKJgoqvq7CaMhos3NTHyUMg.tES5k6puLdJOeZWI0LXY49cPxkasNd7rUyaBgtvd-Vog.PNG.qlcsk1129%2F2019%25B3%25E2_%25BF%25B5%25BE%25CF_%25BF%25F9%25C3%25E2%25BB%25EA_%25B1%25B9%25C8%25AD%25C3%25E0%25C1%25A6.png%23500x500\n",
      "https://search.pstatic.net/common/?autoRotate=true&type=h320_sharpen&src=http%3A%2F%2Fblogfiles.naver.net%2FMjAyMjA1MjBfNTUg%2FMDAxNjUzMDQ3NDU2MDEz.FsCgW1RNDAxZBP9YHslKgfnwSZPzv56Z45HGI_v4SF4g.gUisGeYDAsnY_UaLXqnpOaClS-HbXc_FbXxizyiHF9wg.JPEG.carrie0529%2FKakaoTalk_20220516_173532868_20.jpg%234960x3960\n",
      "https://search.pstatic.net/common/?autoRotate=true&type=h320_sharpen&src=http%3A%2F%2Fblogfiles.naver.net%2FMjAyMjA2MjBfOTEg%2FMDAxNjU1NjU1MTQ0NTg0.Wq9sQD5TzrO6IlQP776DWUSbV5b5a96Y7OQ9rpmmWN4g.cPYNK9zb_wXPZt9AahGWwVd8mj_QObExbCpYjjxNkwkg.JPEG.tndusl2501%2F20220514%25A3%25DF132708.jpg%23900x900\n",
      "https://search.pstatic.net/common/?autoRotate=true&type=h320_sharpen&src=http%3A%2F%2Fblogfiles.naver.net%2FMjAyMTExMThfMjM5%2FMDAxNjM3MjIwMTQ1MzAy.pIdMy998werH8P1FDx7NCOfcc8psyWZC-1hc7aX16Sgg.2PIWJMK0dJRYgpbPrETnL5P9GRUaI_hxUMEik4vEauQg.JPEG.wkdwndud121%2FIMG_2667.jpg%23900x1200\n",
      "https://search.pstatic.net/common/?autoRotate=true&type=h320_sharpen&src=http%3A%2F%2Fblogfiles.naver.net%2FMjAyMDA4MDJfMTIg%2FMDAxNTk2MzcyNjc1MTY1.-zPM0tce0MB3dXydR0kRVUoLCJ6gsraO8_S8LMYtgkMg.2DEUoSwJfyLA43XFPkltLiQVC1VZiAc4sHbkCj2w9SAg.JPEG.khl1845%2F1596372674524.jpg%23550x550\n",
      "https://search.pstatic.net/common/?autoRotate=true&type=h320_sharpen&src=http%3A%2F%2Fblogfiles.naver.net%2FMjAyMDA4MTZfMTk3%2FMDAxNTk3NTg3MTQ2Mzc2.PQ_IpD6IN4eQJ2YHrCF4Wjg_ePlVdXTWrZ8PL76bKB8g.80gSXtN8RTaYy6HyXoo9CE6wWcRqCENqJLecLMlf4X8g.JPEG.haenamboys%2F20200815-10-IMG_3247.jpg%23966x725\n",
      "https://search.pstatic.net/common/?autoRotate=true&type=h320_sharpen&src=http%3A%2F%2Fblogfiles.naver.net%2FMjAyMjAyMTdfMjI2%2FMDAxNjQ1MDY1NTAxNTM5.IdpuIOa8dU-behm6PUbPGy-rUGswoF31JL4ozXST7WMg.gmFPNE53kiinGecYe7R43DzizGDbbssMiIE2CEhLa1og.JPEG.min_ju0116%2FKakaoTalk_20220215_154630942_03.jpg%231440x1080\n"
     ]
    },
    {
     "name": "stdout",
     "output_type": "stream",
     "text": [
      "https://search.pstatic.net/common/?autoRotate=true&type=h320_sharpen&src=http%3A%2F%2Fblogfiles.naver.net%2FMjAyMTEwMTJfMjIg%2FMDAxNjM0MDQxNTgxOTY5.FTJuQnogs2eOOLn1RWWcKOKlO1XITcDZoKE614EXh2gg.UtUnk4THce1dlbq4_zIoYmCDdE2OQOLJ1n-8DXB0958g.JPEG.jungdaeng2%2FIMG_7575.JPG%234032x3024\n",
      "https://search.pstatic.net/common/?autoRotate=true&type=h320_sharpen&src=http%3A%2F%2Fblogfiles.naver.net%2FMjAyMDA4MzBfMTUg%2FMDAxNTk4NzkxMzc0MTE2.wSSw5qLduUuh10TcExom-f6NMz90bqQ4Gfdc1eUNhQIg.M8oklxxiQ4F_H_U80sVfnNfko3aIOWPRdXo2x-STZ5Yg.JPEG.jjju1023%2F1598791375108.jpg%23900x674\n",
      "https://search.pstatic.net/common/?autoRotate=true&type=h320_sharpen&src=http%3A%2F%2Fblogfiles.naver.net%2FMjAyMTAzMDhfMjM2%2FMDAxNjE1MTg3MDc1OTE0.pgq4ozitBdy5VwqSuAa58eYN9iJM4JkAzU9Pt-ZxOfsg.O6tCvNHxlQEyxwrV-ghNMf7oDum7ULRnr4GIJYSfD_og.JPEG.onew_5525%2FIMG_4751.jpg%23900x674\n",
      "https://search.pstatic.net/common/?autoRotate=true&type=h320_sharpen&src=http%3A%2F%2Fblogfiles.naver.net%2FMjAyMjA3MDdfNzkg%2FMDAxNjU3MTQxOTA2MTc2.Ac8hy48ngvXGOwLFgC8UVS0FfybWJUKssBOuw_rl-Jwg.KtyXC1y1LTxRJHX5Ak9sPB9mkmj_t59kyh9PFMiRok8g.JPEG.humanek60%2F20220630_093348.jpg%234032x2268\n",
      "https://search.pstatic.net/common/?autoRotate=true&type=h320_sharpen&src=http%3A%2F%2Fblogfiles.naver.net%2FMjAyMTA2MDJfMjY5%2FMDAxNjIyNTkyODk3NzQ2.Cf0a7GB1O77aLzzz895V0OHCPqR5TpxfF9b43WcU990g.RafJBCn2aHCIkAcXfr-roGdx1b6elQIks_gTvDB40Mog.JPEG.passdongs%2F%25C4%25B8%25C3%25B3.JPG%23750x422\n",
      "https://search.pstatic.net/common/?autoRotate=true&type=h320_sharpen&src=http%3A%2F%2Fblogfiles.naver.net%2FMjAxOTEwMTFfMjYw%2FMDAxNTcwNzU2OTY4NTM1.ftDnsJ9tsA_yBIHCnYTeP9bJ_GpsX3clxDPnuKIwp2Qg.Lt22zWVq6Tv4zLKBSfIvORQD28JrV0wmFAGQt_IsSUUg.JPEG.coallaqt%2F1570756966709.jpeg%23640x640\n",
      "https://search.pstatic.net/common/?autoRotate=true&type=h320_sharpen&src=http%3A%2F%2Fblogfiles.naver.net%2FMjAxOTEwMTdfOSAg%2FMDAxNTcxMzA0NTQ3Njg0.pOAj-l63xoHdTf_mVBdyUVIFEfat-D32wFpX_NQdRVkg.rKw85OTVP6EjlgPh3mAoYOteQxvOof8X7m40zVgKxVMg.JPEG.coallaqt%2F1571304547127.jpg%23900x506\n",
      "https://search.pstatic.net/common/?autoRotate=true&type=h320_sharpen&src=http%3A%2F%2Fblogfiles.naver.net%2FMjAxOTAyMjdfMTM2%2FMDAxNTUxMjUwNjgwOTg1.GBD7lwOtRxiFGmKDs8U3p1lmzXIFXEFgWDZ84X5JF4gg.mqKdtkK72c_Bzv8nPAEuy2ZGh8ApVAzrOAiikrBXiLcg.JPEG.kkaebi27%2F20190227_145501.jpg%23900x506\n",
      "https://search.pstatic.net/common/?autoRotate=true&type=h320_sharpen&src=http%3A%2F%2Fblogfiles.naver.net%2FMjAyMjA4MDVfNjcg%2FMDAxNjU5NzA5NDI4ODg1.hCXZS2rCA_CvksJJLSSfgTnF08tPEqqxUZIyi56WFbog.3GEkG3wfulKZRn2IBBZ-1aM8J4LzgpciT85RKkvNjIgg.JPEG.akslwma%2F1659496244390.jpg%23900x675\n",
      "https://search.pstatic.net/common/?autoRotate=true&type=h320_sharpen&src=http%3A%2F%2Fblogfiles.naver.net%2FMjAyMjA0MTdfMTQ4%2FMDAxNjUwMTIxNTg5NDU2.HEQlorqI-PVOgumsgsaY1ax4kKYXZk18HRERw6KZwfEg.KH2aojmgRnbjyFrNK6_3wdp8XeynLkCszk5xs3w9Im0g.JPEG.noregrets7%2FIMG_2787.jpg%23900x900\n",
      "https://search.pstatic.net/common/?autoRotate=true&type=h320_sharpen&src=http%3A%2F%2Fblogfiles.naver.net%2FMjAyMjA1MDNfMTAz%2FMDAxNjUxNTM4NTIyODU2.ZK78dKUY-UY-TuDtlCT3JKgZnBOWz0QuhUCZkhBiieog.k9soJsGog60bqowRVZBQyBVxwgth6t-NkEeyZCwykGUg.JPEG.pswon5089%2FIMG_9361.jpg%23900x674\n",
      "https://search.pstatic.net/common/?autoRotate=true&type=h320_sharpen&src=http%3A%2F%2Fblogfiles.naver.net%2FMjAyMjAzMjdfMTAw%2FMDAxNjQ4MzMxMzgzMjY5.l69U4FjQteShmuKuDZO_UMMQp7AfAbBSoZI3JBwpC7og.63VX41tOyZKW9Ug1rhgCUTIDamzPs1fROeNdUWaF310g.JPEG.hyhypo44%2FIMG_1115.jpg%23900x1200\n",
      "https://search.pstatic.net/common/?autoRotate=true&type=h320_sharpen&src=http%3A%2F%2Fblogfiles.naver.net%2FMjAyMTEwMjVfMjk1%2FMDAxNjM1MTY2NjY1NzMw.xqSkCmMZpBBQciAv2ewPc_i9FiT3lcbG2iA5ZDWIJVwg.KJhzS-GVUx98mrtbR3XWlF9D41dv-uu5nmTBWibq0wYg.JPEG.qbbary%2F20211024%25A3%25DF115800.jpg%23900x900\n",
      "https://search.pstatic.net/common/?autoRotate=true&type=h320_sharpen&src=http%3A%2F%2Fblogfiles.naver.net%2FMjAyMjAzMTNfODgg%2FMDAxNjQ3MTY2NzUwMjM5.HkVQBrpGMZinLzvPU_skNpQ5bz2ICaiQ3cJAVt-WccQg.2iUK3w0LNDggBgXW74X4fXawIORLwP1UuVEtK9ewR6Mg.JPEG.kimhj9172%2FIMG_9027.jpg%23900x1200\n",
      "https://search.pstatic.net/common/?autoRotate=true&type=h320_sharpen&src=http%3A%2F%2Fblogfiles.naver.net%2FMjAyMjAzMjNfMTc3%2FMDAxNjQ4MDM2OTI4NTA2.9adC4hBGKDZiha_pGjzUlQta5HKV-IparUNd_PjjIG8g.RcdwO-U8q7cAL_5b4rHWhRUrnXPyjLLgzCEjoWp93yog.JPEG.jinni1227%2F%25BF%25EB%25C8%25EF356%25A3%25DF%25A3%25AD001.jpg%23900x900\n",
      "https://search.pstatic.net/common/?autoRotate=true&type=h320_sharpen&src=http%3A%2F%2Fblogfiles.naver.net%2FMjAyMjAzMDNfNjEg%2FMDAxNjQ2MjgwOTk4NjY0.dSjFY8GdB3Yw-MduMEgBW4w2Gb8Xy0gz0GhZfxaUPQIg.IfQiuwuSD-MRILr5ip8OFfKDPhZ0lFAywp8meuy-9hEg.JPEG.dduzi_dh%2Foutput_320346244.jpg%23900x674\n",
      "https://search.pstatic.net/common/?autoRotate=true&type=h320_sharpen&src=http%3A%2F%2Fblogfiles.naver.net%2FMjAyMTEwMjZfMjI3%2FMDAxNjM1MjEzNzE4NjE1.-ERF-zLdWEL6s9vLWyNmUNHZqFJET12C-Gjli6YyEJYg.Xb8eYNfMfsS-_6MTAhXsd1DjD-vfcQjHTlVUU5D06w8g.JPEG.dduzi_dh%2Foutput_3523144107.jpg%23900x674\n",
      "https://search.pstatic.net/common/?autoRotate=true&type=h320_sharpen&src=http%3A%2F%2Fblogfiles.naver.net%2FMjAyMjA0MjdfMjkz%2FMDAxNjUxMDQzMjM0NTEx.e7wGF-ltHVXgKySLGggN1svqC_wrUgFa2XLEIH60GMAg.uhFp5JAM_FoL-huA1kbHk8DVkCVjJSAVpZH7D-JTAU0g.JPEG.nobia9672%2F1651042904102.jpg%23900x1126\n",
      "https://search.pstatic.net/common/?autoRotate=true&type=h320_sharpen&src=http%3A%2F%2Fblogfiles.naver.net%2FMjAyMjA2MDZfNDQg%2FMDAxNjU0NDkzODAzNjgy.P6Fovg9puLGy2qZPXkIXQgKvkzyEyTqF9B5euMy1D88g.sQxJH9tBViqy33xf5-q0Bt58HtCPQJOMXE4lGI4wJRsg.JPEG.nikita91%2FKakaoTalk_20220605_200007407_02.jpg%233000x2250\n",
      "https://search.pstatic.net/common/?autoRotate=true&type=h320_sharpen&src=http%3A%2F%2Fblogfiles.naver.net%2FMjAyMjA2MTFfMTYg%2FMDAxNjU0OTI2MjcwNzU0.QY20uBZbYEaLDp_jtcIWOT5Ig-fsrcX_tlqeq7ACZlIg.f1K3TQV-Qa9V8DSvVL8Fcf83PJ1KABR-kAyPOnDjs2Qg.JPEG.hee__na%2FIMG_6814.jpg%23900x1066\n",
      "https://search.pstatic.net/common/?autoRotate=true&type=h320_sharpen&src=http%3A%2F%2Fblogfiles.naver.net%2FMjAyMTExMDlfMjk2%2FMDAxNjM2NDUwMjE4OTA5.2AwtufBrxDwxzyKtNd-t0TIC4HQzLBSD0j3SA-3ZmQgg.nsBkh2sro3KpVoRtYmKY-q8bCviLJrPeZr6kpEO_zZ8g.JPEG.hask19%2F20211015_185252.jpg%232250x2365\n",
      "https://search.pstatic.net/common/?autoRotate=true&type=h320_sharpen&src=http%3A%2F%2Fblogfiles.naver.net%2FMjAyMTExMTlfMTMz%2FMDAxNjM3MjQ5NDUwOTUz.H9qcSChyQ8LJxXTu4hYK6XoIAGCRDBLWFMwBr2TMVywg.bCPOniEk9LlkE9J63uegZZl22M97Kw_bZDNzv4a7V10g.JPEG.ehfos%2F20211107%25A3%25DF170522.jpg%23900x675\n",
      "https://search.pstatic.net/common/?autoRotate=true&type=h320_sharpen&src=http%3A%2F%2Fblogfiles.naver.net%2FMjAyMTEyMjZfMTIx%2FMDAxNjQwNDQ5MTM3MTE5.5mOSeb4iVnTGc1WkHSxo9ZTcvGDW9sRbI6uKIUqSACog.DChXMqUH2ixyxLWeAWlyz6aI2Zt3jKr0JuA-DuN_1gIg.JPEG.ehfos%2F20211225%25A3%25DF095408.jpg%23900x675\n",
      "https://search.pstatic.net/common/?autoRotate=true&type=h320_sharpen&src=http%3A%2F%2Fblogfiles.naver.net%2FMjAyMjAyMThfMjA2%2FMDAxNjQ1MTQ3OTI3NjQ5.OAWyZzQzIr0IRbM-6HlVFBlUdeM3nFHoNiXMw1zm9z8g.IwUYzv4DsmqO8S66NEZ8_X3c5sDSnLqA-eefK3edfHgg.JPEG.photo4782%2F_ABH4713.JPG%232000x1335\n",
      "https://search.pstatic.net/common/?autoRotate=true&type=h320_sharpen&src=http%3A%2F%2Fblogfiles.naver.net%2FMjAyMjA1MDZfMTYz%2FMDAxNjUxODM0MTAwNjgw.DT_j6Oa3ZnQ_yze4zQMc4HQvDbjdbqa3jN4SzM6SyHog.kDnyghw2PguFHr0_9d8snhNILyo2HbQ8DiZTQKyjwGog.JPEG.heorisu%2F20220422_154542.jpg%234032x3024\n",
      "https://search.pstatic.net/common/?autoRotate=true&type=h320_sharpen&src=http%3A%2F%2Fblogfiles.naver.net%2FMjAyMjA2MDRfMjgx%2FMDAxNjU0MzUwOTg0Nzk2.hUOTDPaiK7h4JhZ6Bu1-d8b6-lVcmFB-q55PONLjSCAg.EGHmaNbi2mmH0g-OKcAjw26Qi3GHzqv5btD7ca0FDnwg.JPEG.skdml9090%2F20220522_122612.jpg%232992x2992\n",
      "https://search.pstatic.net/common/?autoRotate=true&type=h320_sharpen&src=http%3A%2F%2Fblogfiles.naver.net%2FMjAyMjA1MjBfMjEg%2FMDAxNjUzMDU4MTI5NDA2.ffZaHD_8eA_SuVsiKkschGWXUH1jL2Ti6D7iucheZjsg.zJz_bk5GNuTOXXxLNVy9hwWZOPftoSTqUkgGJ-SoyW0g.JPEG.huhasim%2F0-2.JPG%23600x987\n",
      "https://search.pstatic.net/common/?autoRotate=true&type=h320_sharpen&src=http%3A%2F%2Fblogfiles.naver.net%2FMjAyMTEwMDdfMzQg%2FMDAxNjMzNTcwMTA1OTAx.mmi04K3fU24haWeZlfy62woEf8VXs-3ueD8S8dFwobwg.mOCyAtKemYdfJ-KabOcj1vIne5telfrbvC9sQL8b0gUg.JPEG.eliza0259%2F20211006_144654.jpg%234608x3456\n",
      "https://search.pstatic.net/common/?autoRotate=true&type=h320_sharpen&src=http%3A%2F%2Fblogfiles.naver.net%2FMjAxNzA3MjZfMTkw%2FMDAxNTAxMDY4MzcyOTA5.FvHFkpnNtiQ1FDrHf46JaUlQQcsEZVxvyakiwf7ldAUg.El6ml0vqwdwCrp2AIEanQ4ZOI-eSTtJu-UknjPxMWV4g.JPEG.inrain486%2F20170626_062539.jpg%23773x434\n",
      "https://search.pstatic.net/common/?autoRotate=true&type=h320_sharpen&src=http%3A%2F%2Fblogfiles.naver.net%2FMjAyMjA4MTRfMjcg%2FMDAxNjYwNDUwNTAxMzMx.VJsUVe3XcoMr8gWwjX3ftuvquHW8VJhb_1agwL3q7vkg.ut0Uo2wcwf2MorJ9osjy15WaPRplEyU43iP0XVe37swg.JPEG.hyeju1069%2F1660450500142.jpg%23900x675\n",
      "https://search.pstatic.net/common/?autoRotate=true&type=h320_sharpen&src=http%3A%2F%2Fblogfiles.naver.net%2FMjAyMTA0MDZfMTQz%2FMDAxNjE3NjY2NTk4ODY1.ks4dmgsgEspq1ViwIuQ2CIaEl_LR0xEOL51htBbZCt8g.sPJizjQrN_PwbaBab9ZqvQhPpbXtzuBXhrVVeMloq3Mg.JPEG.driverhigh%2F20210324_065634_HDR.jpg%232250x3000\n",
      "https://search.pstatic.net/common/?autoRotate=true&type=h320_sharpen&src=http%3A%2F%2Fblogfiles.naver.net%2FMjAyMDAzMjZfMzgg%2FMDAxNTg1MjA4NzYxOTcx.7ho5x3loTgQtZMCIYGnS9RksKCKXTcoaEcS-vZuGdHMg.GIE6eoRCIYXRhSP_aRBB41amCghgA-c0qj4KDcCvrAIg.JPEG.driverhigh%2FKakaoTalk_20200326_113151858.jpg%233000x2250\n",
      "https://search.pstatic.net/common/?autoRotate=true&type=h320_sharpen&src=http%3A%2F%2Fblogfiles.naver.net%2FMjAyMDAzMTVfMjg4%2FMDAxNTg0MjQ3NTY4NjYy.W5wy-WJO3-Cp0BUHTdFhwMmZMlvWyaqSNazrfoqIfYAg.5vLghRGyS1wpaAQq9Qd16jBXlTWBTfNH0ChZmSjTDFgg.JPEG.driverhigh%2F20200305_101232.jpg%233024x4032\n",
      "https://search.pstatic.net/common/?autoRotate=true&type=h320_sharpen&src=http%3A%2F%2Fblogfiles.naver.net%2FMjAyMjA3MDRfMTYz%2FMDAxNjU2OTE0MjA4NDk0.KeewEdA3aMe3M8pTkvsuVfBonb4DM0tqdg0NPVANRiEg.zAFtjZkljHEi2EUsBrM6aqFHnn-sdJskx5l18Q7gd0Qg.JPEG.greenjeonnam%2F001.jpg%231443x960\n",
      "https://search.pstatic.net/common/?autoRotate=true&type=h320_sharpen&src=http%3A%2F%2Fblogfiles.naver.net%2FMjAyMjAyMDdfMTIw%2FMDAxNjQ0MjAxOTQ2ODc5.GpqFgW4SXPSqod4dEWD1G9Fu6BXHvFroQyBW21iYMOEg.D87Ae3d5caERIg9pnT3artEL3i8NJRC5c5gu7JNHu90g.JPEG.wella5442%2F20220120_132908.jpg%233000x3000\n",
      "https://search.pstatic.net/common/?autoRotate=true&type=h320_sharpen&src=http%3A%2F%2Fblogfiles.naver.net%2FMjAyMjA0MDVfMjQz%2FMDAxNjQ5MDg3NTI1Njc4.Eo3zjEEiatXb_6eOTispBDFJ2sljZJi69qDdHWknyfkg.gbT6UgZIINFth-L1XIWDHJ3ZxRDE5HPj-N-cw89V_7og.JPEG.ycru%2FDSC04497.jpg%235748x3833\n",
      "https://search.pstatic.net/common/?autoRotate=true&type=h320_sharpen&src=http%3A%2F%2Fblogfiles.naver.net%2FMjAyMTEwMjZfODMg%2FMDAxNjM1MjQ4OTUyMzQ2.CJmCeYMqGvxekUBFmlHU75mlRTGBa23PCuGJNxreQBMg.Ry4FR3_U-oPk_CDazksGC3JEHq9DP1ZFDCRjfGDd8Q4g.JPEG.sin100%2FSDS_2900.jpg%232500x1667\n",
      "https://search.pstatic.net/common/?autoRotate=true&type=h320_sharpen&src=http%3A%2F%2Fblogfiles.naver.net%2FMjAxOTA1MjdfMjkw%2FMDAxNTU4OTYwNzI0ODA1.ujqRw2BcbxZroFzH0o8mIo2lsArPBnhF5cqBXnoXYBAg.FL9i8eOIQtl2VBOUev7VYw3nxD8IZFjQs9ROkFS-8p0g.PNG.morring123%2FDSC_7198sk.png%23966x645\n",
      "https://search.pstatic.net/common/?autoRotate=true&type=h320_sharpen&src=http%3A%2F%2Fblogfiles.naver.net%2FMjAyMjA2MjJfMjc4%2FMDAxNjU1OTA2MDI0ODc2.wRVnGr3IRxnvzVlJazvzFiAQNQJyxACoKRkjTYwUgp4g.Q_k9J_eOC3-NSwoI74H5lY_75D1xH_pLzwHFCLYR208g.JPEG.hzzomi%2FIMG_4981.jpg%23900x900\n",
      "https://search.pstatic.net/common/?autoRotate=true&type=h320_sharpen&src=http%3A%2F%2Fblogfiles.naver.net%2FMjAyMjA0MTBfMjEx%2FMDAxNjQ5NTcwNTYzMDY2.PHWhagqjCmGdLyQywkeLKujq9eEDHzV8r4Os-tjcn7Qg.7OgWQ-t8G62WChUmFpT-4PCZvPNLvTYYq4peQR98cJAg.JPEG.great511%2F20220409%25A3%25DF153443.jpg%23900x675\n",
      "https://search.pstatic.net/common/?autoRotate=true&type=h320_sharpen&src=http%3A%2F%2Fblogfiles.naver.net%2FMjAyMjAyMTNfMTI0%2FMDAxNjQ0NzU2MzE5NTgx.Q2cMyGtfzOSf0u5d1S9bf70cyzg075318PuzGuHjzKsg.ePCX0FxEbSDlOZwasBrwu_Oqy8mEyhqMp-T05bVzJoAg.JPEG.keybewhy%2F%25BF%25B5%25BE%25CF_%25C7%25C7%25C5%25A9%25B4%25CF%25C3%25B3_%252860%2529.JPG%23740x555\n",
      "https://search.pstatic.net/common/?autoRotate=true&type=h320_sharpen&src=http%3A%2F%2Fblogfiles.naver.net%2FMjAyMjA0MDFfMTU1%2FMDAxNjQ4ODA4MTg3NDQz.Q7EHCuriw-_MehxGPoLUaN0ZM_GJ1Qypd_Evnhj-gjMg.-ktxtze3J3rjvphE9j2LzwWTk4ngeWwIgQkbypDMN0cg.JPEG.hot_cola7%2FECE94B02-9B86-4E08-B3B1-6FF3BDD6D64C-50269-000007E6865D9625.jpg%23900x938\n",
      "https://search.pstatic.net/common/?autoRotate=true&type=h320_sharpen&src=http%3A%2F%2Fblogfiles.naver.net%2FMjAyMjA0MDFfODYg%2FMDAxNjQ4ODA4NzQzMTgw.dotzCyfYR7l746P7rhn4pScDROSQknLMDbBEkDFOFugg.fcCCGXHVsEAJbArDgnp-iYs9z4yqdLXxHR_YhVpiOiog.JPEG.osgsb%2FSE-9817085d-5084-41c2-98fb-dbcb01d2c46c.jpg%233000x1684\n",
      "https://search.pstatic.net/common/?autoRotate=true&type=h320_sharpen&src=http%3A%2F%2Fblogfiles.naver.net%2FMjAyMjA1MzFfMjUg%2FMDAxNjUzOTY4ODc0NzE2.Pgulka0wCK8ONbRXdlowM3lH38DSdtck1F8TBw97kk0g.8gDq6Y2_E8ms6nwue5Dl5gkaBxVyvgjbZusfMFCzkwMg.JPEG.teda_%2F1653968875083.jpg%23900x1200\n",
      "https://search.pstatic.net/common/?autoRotate=true&type=h320_sharpen&src=http%3A%2F%2Fblogfiles.naver.net%2FMjAxOTAzMjVfOTMg%2FMDAxNTUzNTE2MjEzMjQz.L6K2kVGHUihcdZdLlhr2hVhiYxi1Us7kEF5zSYJYoD4g.dG5WHbcQ55QbfajDynopsauUR1RGzXwyEvBaN3YHytgg.JPEG.seoldj%2FDSC04837.jpg%23966x644\n",
      "https://search.pstatic.net/common/?autoRotate=true&type=h320_sharpen&src=http%3A%2F%2Fblogfiles.naver.net%2FMjAxOTAyMTdfMTEz%2FMDAxNTUwMzMzNzY0MTY0.5MHFPHWvFqXyT0ZLdyw5toZ2k1WvoaLHQ8DghMvckIEg.s59WLUBm7FAyBHDN9YeFcS6JU_zns8NovEZrHju9iZEg.JPEG.phoc_6%2F22HukSuk.jpg%231349x1116\n",
      "https://search.pstatic.net/common/?autoRotate=true&type=h320_sharpen&src=http%3A%2F%2Fblogfiles.naver.net%2FMjAxOTAzMjJfNjgg%2FMDAxNTUzMjI1MTEwODQ0.XY0sX30KA5_jDM9vxYgiRK17PAV-fdnAUovkd9koEQYg.7fgdgSspdYpjIT6xgRR7wAjYBzE7J8iu8ywy8QmeDLMg.JPEG.mytkfkd65%2FDSC08301.jpg%231024x684\n"
     ]
    }
   ],
   "source": [
    "for img in imgs :\n",
    "    print(img.get_attribute('style').split('background-image: url(\"')[1][:-3])"
   ]
  },
  {
   "cell_type": "code",
   "execution_count": 71,
   "id": "5084a4c8",
   "metadata": {},
   "outputs": [],
   "source": []
  },
  {
   "cell_type": "code",
   "execution_count": null,
   "id": "6fd163ea",
   "metadata": {},
   "outputs": [],
   "source": []
  },
  {
   "cell_type": "code",
   "execution_count": null,
   "id": "bc0ae470",
   "metadata": {},
   "outputs": [],
   "source": []
  },
  {
   "cell_type": "code",
   "execution_count": null,
   "id": "5f175e12",
   "metadata": {},
   "outputs": [],
   "source": []
  },
  {
   "cell_type": "code",
   "execution_count": null,
   "id": "ec64c043",
   "metadata": {},
   "outputs": [],
   "source": []
  },
  {
   "cell_type": "code",
   "execution_count": null,
   "id": "52a8e875",
   "metadata": {},
   "outputs": [],
   "source": []
  },
  {
   "cell_type": "code",
   "execution_count": null,
   "id": "2e432623",
   "metadata": {},
   "outputs": [],
   "source": []
  },
  {
   "cell_type": "code",
   "execution_count": null,
   "id": "9f641f72",
   "metadata": {},
   "outputs": [],
   "source": []
  },
  {
   "cell_type": "code",
   "execution_count": null,
   "id": "e1969496",
   "metadata": {},
   "outputs": [],
   "source": []
  },
  {
   "cell_type": "code",
   "execution_count": null,
   "id": "8e1e48f1",
   "metadata": {},
   "outputs": [],
   "source": []
  },
  {
   "cell_type": "code",
   "execution_count": null,
   "id": "8f1e4ebf",
   "metadata": {},
   "outputs": [],
   "source": []
  },
  {
   "cell_type": "code",
   "execution_count": null,
   "id": "77051cf7",
   "metadata": {},
   "outputs": [],
   "source": []
  }
 ],
 "metadata": {
  "kernelspec": {
   "display_name": "Python 3 (ipykernel)",
   "language": "python",
   "name": "python3"
  },
  "language_info": {
   "codemirror_mode": {
    "name": "ipython",
    "version": 3
   },
   "file_extension": ".py",
   "mimetype": "text/x-python",
   "name": "python",
   "nbconvert_exporter": "python",
   "pygments_lexer": "ipython3",
   "version": "3.9.12"
  }
 },
 "nbformat": 4,
 "nbformat_minor": 5
}
